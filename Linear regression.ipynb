{
 "cells": [
  {
   "cell_type": "code",
   "execution_count": 1,
   "metadata": {},
   "outputs": [],
   "source": [
    "import numpy as np\n",
    "from sklearn.linear_model import LinearRegression\n",
    "from sklearn.metrics import r2_score"
   ]
  },
  {
   "cell_type": "code",
   "execution_count": null,
   "metadata": {},
   "outputs": [],
   "source": [
    "# Given data\n",
    "data = [\n",
    "    [22, 45],\n",
    "    [19, 42],\n",
    "    [11, 23],\n",
    "    [7, 23],\n",
    "    [13, 23],\n",
    "    [20, 39],\n",
    "    [8, 19],\n",
    "    [12, 21],\n",
    "    [15, 28],\n",
    "    [23, 65]\n",
    "]\n",
    "\n",
    "# Convert the data to numpy arrays\n",
    "data_np = np.array(data)\n",
    "data_np"
   ]
  },
  {
   "cell_type": "code",
   "execution_count": 3,
   "metadata": {},
   "outputs": [],
   "source": [
    "# Extract X and y\n",
    "X = data_np[:, 0].reshape(-1, 1)  # Reshape to a column vector\n",
    "y = data_np[:, 1]"
   ]
  },
  {
   "cell_type": "code",
   "execution_count": 6,
   "metadata": {},
   "outputs": [],
   "source": [
    "model = LinearRegression().fit(X, y)"
   ]
  },
  {
   "cell_type": "code",
   "execution_count": 7,
   "metadata": {},
   "outputs": [],
   "source": [
    "# Calculate sample mean of X and Y\n",
    "mean_X = np.mean(X),2\n",
    "mean_Y = np.mean(y),2"
   ]
  },
  {
   "cell_type": "code",
   "execution_count": 21,
   "metadata": {},
   "outputs": [],
   "source": [
    "# Calculate coefficients (slope and intercept)\n",
    "slope = round(model.coef_[0],2)\n",
    "intercept = round(model.intercept_,2)\n",
    "slope = model.coef_[0]\n",
    "intercept = model.intercept_"
   ]
  },
  {
   "cell_type": "code",
   "execution_count": 19,
   "metadata": {},
   "outputs": [],
   "source": [
    "# Calculate R-squared\n",
    "predictions = model.predict(X)\n",
    "ss_total = np.sum((y - mean_Y)**2)\n",
    "ss_residual = np.sum((y - predictions)**2)\n",
    "r_squared = 1 - (ss_residual / ss_total)\n",
    "#r_squared = round(r_squared ,2)\n",
    "\n",
    "#or\n",
    "predictions = model.predict(X)\n",
    "r_squared = r2_score(y, predictions)"
   ]
  },
  {
   "cell_type": "code",
   "execution_count": 22,
   "metadata": {},
   "outputs": [
    {
     "name": "stdout",
     "output_type": "stream",
     "text": [
      "Sample Mean X: 15.0\n",
      "Sample Mean Y: 32.8\n",
      "Coefficient (Slope): 2.297297297297298\n",
      "Intercept: -1.6594594594594696\n",
      "R-squared: 0.8012731648349212\n"
     ]
    }
   ],
   "source": [
    "# Print the results\n",
    "print(f\"Sample Mean X: {mean_X}\")\n",
    "print(f\"Sample Mean Y: {mean_Y}\")\n",
    "print(f\"Coefficient (Slope): {slope}\")\n",
    "print(f\"Intercept: {intercept}\")\n",
    "print(f\"R-squared: {r_squared}\")"
   ]
  }
 ],
 "metadata": {
  "kernelspec": {
   "display_name": "Python 3",
   "language": "python",
   "name": "python3"
  },
  "language_info": {
   "codemirror_mode": {
    "name": "ipython",
    "version": 3
   },
   "file_extension": ".py",
   "mimetype": "text/x-python",
   "name": "python",
   "nbconvert_exporter": "python",
   "pygments_lexer": "ipython3",
   "version": "3.9.6"
  },
  "orig_nbformat": 4
 },
 "nbformat": 4,
 "nbformat_minor": 2
}
