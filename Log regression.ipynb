{
 "cells": [
  {
   "cell_type": "markdown",
   "metadata": {
    "id": "S2Zv-8wrSmbU"
   },
   "source": [
    "# Application of logistic regression to the classification problem"
   ]
  },
  {
   "cell_type": "markdown",
   "metadata": {
    "id": "Fsaq3T7JS9Ox"
   },
   "source": [
    "# Dataset description"
   ]
  },
  {
   "cell_type": "markdown",
   "metadata": {
    "id": "ekwIM8kmTAx5"
   },
   "source": [
    "The dataset contains information about the passengers of the Titanic, which sank on the night of April 15, 1912. A number of passengers were rescued due to many different factors, including their gender, age, which deck their cabin was on, social status, etc.\n",
    "\n",
    "The dataset consists of various features that describe information about the passengers. Each row of the table is an individual passenger, with all the information about that passenger contained in its row.\n",
    "\n",
    "Dataset description:\n",
    "- **Survived** (target): whether passanger survived or not (0 = No, 1 = Yes);\n",
    "- **Pclass**: ticket class (1 = 1st, 2 = 2nd, 3 = 3rd);\n",
    "- **Sex**: gender (female или male)\t\n",
    "- **Age**: age in years\n",
    "- **SibSp**: no. of siblings/spouses aboard the Titanic\t\n",
    "- **Parch**: no. of parents/children aboard the Titanic\n",
    "- **Ticket**: ticket number\t\n",
    "- **Fare**: passenger fare\n",
    "- **Cabin**: cabin number\t\n",
    "- **Embarked**: port of embarkation: (C = Cherbourg, Q = Queenstown, S = Southampton).\n",
    "\n",
    "We need to solve the classification problem and learn to predict the target feature **Survived** (whether the passenger will survive) from the corresponding non-target features.\n"
   ]
  },
  {
   "cell_type": "markdown",
   "metadata": {
    "id": "SjI-Ub1GYbKX"
   },
   "source": [
    "# Data preparation and exploratory analysis"
   ]
  },
  {
   "cell_type": "code",
   "execution_count": 44,
   "metadata": {
    "id": "a_MzT3cKTuR9"
   },
   "outputs": [],
   "source": [
    "import numpy as np \n",
    "import pandas as pd\n",
    "import matplotlib.pyplot as plt\n",
    "import seaborn as sns\n",
    "from sklearn.linear_model import LogisticRegression\n",
    "from sklearn.metrics import f1_score\n",
    "from sklearn.metrics import classification_report\n",
    "from sklearn.model_selection import train_test_split"
   ]
  },
  {
   "cell_type": "markdown",
   "metadata": {
    "id": "KY4ZYwUuUNwx"
   },
   "source": [
    "Find the number of missing values in the <code>age</code> column:"
   ]
  },
  {
   "cell_type": "code",
   "execution_count": 2,
   "metadata": {
    "id": "Ii5ITpGJUShn"
   },
   "outputs": [
    {
     "data": {
      "text/html": [
       "<div>\n",
       "<style scoped>\n",
       "    .dataframe tbody tr th:only-of-type {\n",
       "        vertical-align: middle;\n",
       "    }\n",
       "\n",
       "    .dataframe tbody tr th {\n",
       "        vertical-align: top;\n",
       "    }\n",
       "\n",
       "    .dataframe thead th {\n",
       "        text-align: right;\n",
       "    }\n",
       "</style>\n",
       "<table border=\"1\" class=\"dataframe\">\n",
       "  <thead>\n",
       "    <tr style=\"text-align: right;\">\n",
       "      <th></th>\n",
       "      <th>pclass</th>\n",
       "      <th>survived</th>\n",
       "      <th>name</th>\n",
       "      <th>sex</th>\n",
       "      <th>age</th>\n",
       "      <th>sibsp</th>\n",
       "      <th>parch</th>\n",
       "      <th>ticket</th>\n",
       "      <th>fare</th>\n",
       "      <th>cabin</th>\n",
       "      <th>embarked</th>\n",
       "      <th>home.dest</th>\n",
       "    </tr>\n",
       "  </thead>\n",
       "  <tbody>\n",
       "    <tr>\n",
       "      <th>0</th>\n",
       "      <td>3</td>\n",
       "      <td>1</td>\n",
       "      <td>Smyth, Miss. Julia</td>\n",
       "      <td>female</td>\n",
       "      <td>NaN</td>\n",
       "      <td>0</td>\n",
       "      <td>0</td>\n",
       "      <td>335432</td>\n",
       "      <td>7.7333</td>\n",
       "      <td>NaN</td>\n",
       "      <td>Q</td>\n",
       "      <td>NaN</td>\n",
       "    </tr>\n",
       "    <tr>\n",
       "      <th>1</th>\n",
       "      <td>3</td>\n",
       "      <td>1</td>\n",
       "      <td>Glynn, Miss. Mary Agatha</td>\n",
       "      <td>female</td>\n",
       "      <td>NaN</td>\n",
       "      <td>0</td>\n",
       "      <td>0</td>\n",
       "      <td>335677</td>\n",
       "      <td>7.7500</td>\n",
       "      <td>NaN</td>\n",
       "      <td>Q</td>\n",
       "      <td>Co Clare, Ireland Washington, DC</td>\n",
       "    </tr>\n",
       "    <tr>\n",
       "      <th>2</th>\n",
       "      <td>3</td>\n",
       "      <td>1</td>\n",
       "      <td>Whabee, Mrs. George Joseph (Shawneene Abi-Saab)</td>\n",
       "      <td>female</td>\n",
       "      <td>38.0</td>\n",
       "      <td>0</td>\n",
       "      <td>0</td>\n",
       "      <td>2688</td>\n",
       "      <td>7.2292</td>\n",
       "      <td>NaN</td>\n",
       "      <td>C</td>\n",
       "      <td>NaN</td>\n",
       "    </tr>\n",
       "    <tr>\n",
       "      <th>3</th>\n",
       "      <td>3</td>\n",
       "      <td>0</td>\n",
       "      <td>Vovk, Mr. Janko</td>\n",
       "      <td>male</td>\n",
       "      <td>22.0</td>\n",
       "      <td>0</td>\n",
       "      <td>0</td>\n",
       "      <td>349252</td>\n",
       "      <td>7.8958</td>\n",
       "      <td>NaN</td>\n",
       "      <td>S</td>\n",
       "      <td>NaN</td>\n",
       "    </tr>\n",
       "    <tr>\n",
       "      <th>4</th>\n",
       "      <td>3</td>\n",
       "      <td>0</td>\n",
       "      <td>de Pelsmaeker, Mr. Alfons</td>\n",
       "      <td>male</td>\n",
       "      <td>16.0</td>\n",
       "      <td>0</td>\n",
       "      <td>0</td>\n",
       "      <td>345778</td>\n",
       "      <td>9.5000</td>\n",
       "      <td>NaN</td>\n",
       "      <td>S</td>\n",
       "      <td>NaN</td>\n",
       "    </tr>\n",
       "    <tr>\n",
       "      <th>...</th>\n",
       "      <td>...</td>\n",
       "      <td>...</td>\n",
       "      <td>...</td>\n",
       "      <td>...</td>\n",
       "      <td>...</td>\n",
       "      <td>...</td>\n",
       "      <td>...</td>\n",
       "      <td>...</td>\n",
       "      <td>...</td>\n",
       "      <td>...</td>\n",
       "      <td>...</td>\n",
       "      <td>...</td>\n",
       "    </tr>\n",
       "    <tr>\n",
       "      <th>976</th>\n",
       "      <td>3</td>\n",
       "      <td>1</td>\n",
       "      <td>Howard, Miss. May Elizabeth</td>\n",
       "      <td>female</td>\n",
       "      <td>NaN</td>\n",
       "      <td>0</td>\n",
       "      <td>0</td>\n",
       "      <td>A. 2. 39186</td>\n",
       "      <td>8.0500</td>\n",
       "      <td>NaN</td>\n",
       "      <td>S</td>\n",
       "      <td>NaN</td>\n",
       "    </tr>\n",
       "    <tr>\n",
       "      <th>977</th>\n",
       "      <td>3</td>\n",
       "      <td>1</td>\n",
       "      <td>Dorking, Mr. Edward Arthur</td>\n",
       "      <td>male</td>\n",
       "      <td>19.0</td>\n",
       "      <td>0</td>\n",
       "      <td>0</td>\n",
       "      <td>A/5. 10482</td>\n",
       "      <td>8.0500</td>\n",
       "      <td>NaN</td>\n",
       "      <td>S</td>\n",
       "      <td>England Oglesby, IL</td>\n",
       "    </tr>\n",
       "    <tr>\n",
       "      <th>978</th>\n",
       "      <td>2</td>\n",
       "      <td>0</td>\n",
       "      <td>Gillespie, Mr. William Henry</td>\n",
       "      <td>male</td>\n",
       "      <td>34.0</td>\n",
       "      <td>0</td>\n",
       "      <td>0</td>\n",
       "      <td>12233</td>\n",
       "      <td>13.0000</td>\n",
       "      <td>NaN</td>\n",
       "      <td>S</td>\n",
       "      <td>Vancouver, BC</td>\n",
       "    </tr>\n",
       "    <tr>\n",
       "      <th>979</th>\n",
       "      <td>3</td>\n",
       "      <td>0</td>\n",
       "      <td>Barton, Mr. David John</td>\n",
       "      <td>male</td>\n",
       "      <td>22.0</td>\n",
       "      <td>0</td>\n",
       "      <td>0</td>\n",
       "      <td>324669</td>\n",
       "      <td>8.0500</td>\n",
       "      <td>NaN</td>\n",
       "      <td>S</td>\n",
       "      <td>England New York, NY</td>\n",
       "    </tr>\n",
       "    <tr>\n",
       "      <th>980</th>\n",
       "      <td>1</td>\n",
       "      <td>0</td>\n",
       "      <td>Allison, Miss. Helen Loraine</td>\n",
       "      <td>female</td>\n",
       "      <td>2.0</td>\n",
       "      <td>1</td>\n",
       "      <td>2</td>\n",
       "      <td>113781</td>\n",
       "      <td>151.5500</td>\n",
       "      <td>C22 C26</td>\n",
       "      <td>S</td>\n",
       "      <td>Montreal, PQ / Chesterville, ON</td>\n",
       "    </tr>\n",
       "  </tbody>\n",
       "</table>\n",
       "<p>981 rows × 12 columns</p>\n",
       "</div>"
      ],
      "text/plain": [
       "     pclass  survived                                             name  \\\n",
       "0         3         1                               Smyth, Miss. Julia   \n",
       "1         3         1                         Glynn, Miss. Mary Agatha   \n",
       "2         3         1  Whabee, Mrs. George Joseph (Shawneene Abi-Saab)   \n",
       "3         3         0                                  Vovk, Mr. Janko   \n",
       "4         3         0                        de Pelsmaeker, Mr. Alfons   \n",
       "..      ...       ...                                              ...   \n",
       "976       3         1                      Howard, Miss. May Elizabeth   \n",
       "977       3         1                       Dorking, Mr. Edward Arthur   \n",
       "978       2         0                     Gillespie, Mr. William Henry   \n",
       "979       3         0                           Barton, Mr. David John   \n",
       "980       1         0                     Allison, Miss. Helen Loraine   \n",
       "\n",
       "        sex   age  sibsp  parch       ticket      fare    cabin embarked  \\\n",
       "0    female   NaN      0      0       335432    7.7333      NaN        Q   \n",
       "1    female   NaN      0      0       335677    7.7500      NaN        Q   \n",
       "2    female  38.0      0      0         2688    7.2292      NaN        C   \n",
       "3      male  22.0      0      0       349252    7.8958      NaN        S   \n",
       "4      male  16.0      0      0       345778    9.5000      NaN        S   \n",
       "..      ...   ...    ...    ...          ...       ...      ...      ...   \n",
       "976  female   NaN      0      0  A. 2. 39186    8.0500      NaN        S   \n",
       "977    male  19.0      0      0   A/5. 10482    8.0500      NaN        S   \n",
       "978    male  34.0      0      0        12233   13.0000      NaN        S   \n",
       "979    male  22.0      0      0       324669    8.0500      NaN        S   \n",
       "980  female   2.0      1      2       113781  151.5500  C22 C26        S   \n",
       "\n",
       "                            home.dest  \n",
       "0                                 NaN  \n",
       "1    Co Clare, Ireland Washington, DC  \n",
       "2                                 NaN  \n",
       "3                                 NaN  \n",
       "4                                 NaN  \n",
       "..                                ...  \n",
       "976                               NaN  \n",
       "977               England Oglesby, IL  \n",
       "978                     Vancouver, BC  \n",
       "979              England New York, NY  \n",
       "980   Montreal, PQ / Chesterville, ON  \n",
       "\n",
       "[981 rows x 12 columns]"
      ]
     },
     "execution_count": 2,
     "metadata": {},
     "output_type": "execute_result"
    }
   ],
   "source": [
    "# < ENTER YOUR CODE HERE > \n",
    "df = pd.read_csv(\"/Users/lune/Education/Machine learning/Logistic regression/titanic_train.csv\")\n",
    "df"
   ]
  },
  {
   "cell_type": "code",
   "execution_count": 4,
   "metadata": {},
   "outputs": [
    {
     "data": {
      "text/plain": [
       "199"
      ]
     },
     "execution_count": 4,
     "metadata": {},
     "output_type": "execute_result"
    }
   ],
   "source": [
    "df['age'].isnull().sum()"
   ]
  },
  {
   "cell_type": "markdown",
   "metadata": {
    "id": "gOqnpfJkU6Ll"
   },
   "source": [
    "Calculate the proportion of survivors."
   ]
  },
  {
   "cell_type": "code",
   "execution_count": 6,
   "metadata": {
    "id": "dHdTN-odVAIb"
   },
   "outputs": [
    {
     "data": {
      "text/plain": [
       "<Axes: xlabel='survived'>"
      ]
     },
     "execution_count": 6,
     "metadata": {},
     "output_type": "execute_result"
    },
    {
     "data": {
      "image/png": "[encoded data removed]",
      "text/plain": [
       "<Figure size 800x600 with 1 Axes>"
      ]
     },
     "metadata": {},
     "output_type": "display_data"
    }
   ],
   "source": [
    "# < ENTER YOUR CODE HERE > \n",
    "plt.figure(figsize=(8,6))\n",
    "df['survived'].value_counts().sort_index().plot(kind='bar')"
   ]
  },
  {
   "cell_type": "code",
   "execution_count": 9,
   "metadata": {},
   "outputs": [
    {
     "data": {
      "text/plain": [
       "0.382"
      ]
     },
     "execution_count": 9,
     "metadata": {},
     "output_type": "execute_result"
    }
   ],
   "source": [
    "round(df['survived'].value_counts(normalize=True)[1],3)"
   ]
  },
  {
   "cell_type": "markdown",
   "metadata": {
    "id": "MJS0wozuVoWt"
   },
   "source": [
    "Determine the proportion of missing values within each feature and get rid of those features where the proportion of missing values is greater than a third. Also delete the column <code>ticket</code> as this information is unlikely to be useful."
   ]
  },
  {
   "cell_type": "code",
   "execution_count": 13,
   "metadata": {
    "id": "43ptqUREVz-t"
   },
   "outputs": [
    {
     "data": {
      "text/plain": [
       "pclass      0.000000\n",
       "survived    0.000000\n",
       "name        0.000000\n",
       "sex         0.000000\n",
       "age         0.202854\n",
       "sibsp       0.000000\n",
       "parch       0.000000\n",
       "fare        0.000000\n",
       "embarked    0.000000\n",
       "dtype: float64"
      ]
     },
     "execution_count": 13,
     "metadata": {},
     "output_type": "execute_result"
    }
   ],
   "source": [
    "# < ENTER YOUR CODE HERE > \n",
    "missing_proportion = df.isnull().mean()\n",
    "threshold = 1/3\n",
    "columns_to_drop = missing_proportion[missing_proportion > threshold].index\n",
    "df_dropped = df.drop(columns=columns_to_drop)\n",
    "df_dropped = df_dropped.drop(columns=['ticket'])\n",
    "df_dropped.isnull().mean()"
   ]
  },
  {
   "cell_type": "markdown",
   "metadata": {
    "id": "5Porb6vGmpke"
   },
   "source": [
    "From the dataset description, you can see that the columns <code>sibsp</code> and <code>parch</code> are essentially responsible for family size. Replace these two columns with the <code>fam_size</code> column, whose values will be calculated as the sum of the corresponding values in the columns <code>sibsp</code> and <code>parch</code>."
   ]
  },
  {
   "cell_type": "code",
   "execution_count": 14,
   "metadata": {
    "id": "knvpyHMrm4f-"
   },
   "outputs": [
    {
     "data": {
      "text/html": [
       "<div>\n",
       "<style scoped>\n",
       "    .dataframe tbody tr th:only-of-type {\n",
       "        vertical-align: middle;\n",
       "    }\n",
       "\n",
       "    .dataframe tbody tr th {\n",
       "        vertical-align: top;\n",
       "    }\n",
       "\n",
       "    .dataframe thead th {\n",
       "        text-align: right;\n",
       "    }\n",
       "</style>\n",
       "<table border=\"1\" class=\"dataframe\">\n",
       "  <thead>\n",
       "    <tr style=\"text-align: right;\">\n",
       "      <th></th>\n",
       "      <th>pclass</th>\n",
       "      <th>survived</th>\n",
       "      <th>name</th>\n",
       "      <th>sex</th>\n",
       "      <th>age</th>\n",
       "      <th>fare</th>\n",
       "      <th>embarked</th>\n",
       "      <th>fam_size</th>\n",
       "    </tr>\n",
       "  </thead>\n",
       "  <tbody>\n",
       "    <tr>\n",
       "      <th>0</th>\n",
       "      <td>3</td>\n",
       "      <td>1</td>\n",
       "      <td>Smyth, Miss. Julia</td>\n",
       "      <td>female</td>\n",
       "      <td>NaN</td>\n",
       "      <td>7.7333</td>\n",
       "      <td>Q</td>\n",
       "      <td>0</td>\n",
       "    </tr>\n",
       "    <tr>\n",
       "      <th>1</th>\n",
       "      <td>3</td>\n",
       "      <td>1</td>\n",
       "      <td>Glynn, Miss. Mary Agatha</td>\n",
       "      <td>female</td>\n",
       "      <td>NaN</td>\n",
       "      <td>7.7500</td>\n",
       "      <td>Q</td>\n",
       "      <td>0</td>\n",
       "    </tr>\n",
       "    <tr>\n",
       "      <th>2</th>\n",
       "      <td>3</td>\n",
       "      <td>1</td>\n",
       "      <td>Whabee, Mrs. George Joseph (Shawneene Abi-Saab)</td>\n",
       "      <td>female</td>\n",
       "      <td>38.0</td>\n",
       "      <td>7.2292</td>\n",
       "      <td>C</td>\n",
       "      <td>0</td>\n",
       "    </tr>\n",
       "    <tr>\n",
       "      <th>3</th>\n",
       "      <td>3</td>\n",
       "      <td>0</td>\n",
       "      <td>Vovk, Mr. Janko</td>\n",
       "      <td>male</td>\n",
       "      <td>22.0</td>\n",
       "      <td>7.8958</td>\n",
       "      <td>S</td>\n",
       "      <td>0</td>\n",
       "    </tr>\n",
       "    <tr>\n",
       "      <th>4</th>\n",
       "      <td>3</td>\n",
       "      <td>0</td>\n",
       "      <td>de Pelsmaeker, Mr. Alfons</td>\n",
       "      <td>male</td>\n",
       "      <td>16.0</td>\n",
       "      <td>9.5000</td>\n",
       "      <td>S</td>\n",
       "      <td>0</td>\n",
       "    </tr>\n",
       "    <tr>\n",
       "      <th>...</th>\n",
       "      <td>...</td>\n",
       "      <td>...</td>\n",
       "      <td>...</td>\n",
       "      <td>...</td>\n",
       "      <td>...</td>\n",
       "      <td>...</td>\n",
       "      <td>...</td>\n",
       "      <td>...</td>\n",
       "    </tr>\n",
       "    <tr>\n",
       "      <th>976</th>\n",
       "      <td>3</td>\n",
       "      <td>1</td>\n",
       "      <td>Howard, Miss. May Elizabeth</td>\n",
       "      <td>female</td>\n",
       "      <td>NaN</td>\n",
       "      <td>8.0500</td>\n",
       "      <td>S</td>\n",
       "      <td>0</td>\n",
       "    </tr>\n",
       "    <tr>\n",
       "      <th>977</th>\n",
       "      <td>3</td>\n",
       "      <td>1</td>\n",
       "      <td>Dorking, Mr. Edward Arthur</td>\n",
       "      <td>male</td>\n",
       "      <td>19.0</td>\n",
       "      <td>8.0500</td>\n",
       "      <td>S</td>\n",
       "      <td>0</td>\n",
       "    </tr>\n",
       "    <tr>\n",
       "      <th>978</th>\n",
       "      <td>2</td>\n",
       "      <td>0</td>\n",
       "      <td>Gillespie, Mr. William Henry</td>\n",
       "      <td>male</td>\n",
       "      <td>34.0</td>\n",
       "      <td>13.0000</td>\n",
       "      <td>S</td>\n",
       "      <td>0</td>\n",
       "    </tr>\n",
       "    <tr>\n",
       "      <th>979</th>\n",
       "      <td>3</td>\n",
       "      <td>0</td>\n",
       "      <td>Barton, Mr. David John</td>\n",
       "      <td>male</td>\n",
       "      <td>22.0</td>\n",
       "      <td>8.0500</td>\n",
       "      <td>S</td>\n",
       "      <td>0</td>\n",
       "    </tr>\n",
       "    <tr>\n",
       "      <th>980</th>\n",
       "      <td>1</td>\n",
       "      <td>0</td>\n",
       "      <td>Allison, Miss. Helen Loraine</td>\n",
       "      <td>female</td>\n",
       "      <td>2.0</td>\n",
       "      <td>151.5500</td>\n",
       "      <td>S</td>\n",
       "      <td>3</td>\n",
       "    </tr>\n",
       "  </tbody>\n",
       "</table>\n",
       "<p>981 rows × 8 columns</p>\n",
       "</div>"
      ],
      "text/plain": [
       "     pclass  survived                                             name  \\\n",
       "0         3         1                               Smyth, Miss. Julia   \n",
       "1         3         1                         Glynn, Miss. Mary Agatha   \n",
       "2         3         1  Whabee, Mrs. George Joseph (Shawneene Abi-Saab)   \n",
       "3         3         0                                  Vovk, Mr. Janko   \n",
       "4         3         0                        de Pelsmaeker, Mr. Alfons   \n",
       "..      ...       ...                                              ...   \n",
       "976       3         1                      Howard, Miss. May Elizabeth   \n",
       "977       3         1                       Dorking, Mr. Edward Arthur   \n",
       "978       2         0                     Gillespie, Mr. William Henry   \n",
       "979       3         0                           Barton, Mr. David John   \n",
       "980       1         0                     Allison, Miss. Helen Loraine   \n",
       "\n",
       "        sex   age      fare embarked  fam_size  \n",
       "0    female   NaN    7.7333        Q         0  \n",
       "1    female   NaN    7.7500        Q         0  \n",
       "2    female  38.0    7.2292        C         0  \n",
       "3      male  22.0    7.8958        S         0  \n",
       "4      male  16.0    9.5000        S         0  \n",
       "..      ...   ...       ...      ...       ...  \n",
       "976  female   NaN    8.0500        S         0  \n",
       "977    male  19.0    8.0500        S         0  \n",
       "978    male  34.0   13.0000        S         0  \n",
       "979    male  22.0    8.0500        S         0  \n",
       "980  female   2.0  151.5500        S         3  \n",
       "\n",
       "[981 rows x 8 columns]"
      ]
     },
     "execution_count": 14,
     "metadata": {},
     "output_type": "execute_result"
    }
   ],
   "source": [
    "# < ENTER YOUR CODE HERE > \n",
    "df_dropped['fam_size'] = df_dropped['sibsp'] + df_dropped['parch']\n",
    "\n",
    "# Drop the 'SibSp' and 'Parch' columns\n",
    "df_dropped = df_dropped.drop(columns=['sibsp', 'parch'])\n",
    "df_dropped"
   ]
  },
  {
   "cell_type": "code",
   "execution_count": 17,
   "metadata": {},
   "outputs": [
    {
     "data": {
      "text/plain": [
       "0.866"
      ]
     },
     "execution_count": 17,
     "metadata": {},
     "output_type": "execute_result"
    }
   ],
   "source": [
    "round(df_dropped['fam_size'].mean(),3)"
   ]
  },
  {
   "cell_type": "markdown",
   "metadata": {
    "id": "X9Cmdl5fmyoi"
   },
   "source": [
    "The resulting dataset will be called **INITIAL** (the features discarded at this stage do not need to be returned at any of the subsequent stages of the task)."
   ]
  },
  {
   "cell_type": "code",
   "execution_count": 18,
   "metadata": {
    "id": "XdpdKkEBUT52"
   },
   "outputs": [],
   "source": [
    "# < ENTER YOUR CODE HERE > \n",
    "df_initial = df_dropped"
   ]
  },
  {
   "cell_type": "code",
   "execution_count": 19,
   "metadata": {},
   "outputs": [
    {
     "data": {
      "text/html": [
       "<div>\n",
       "<style scoped>\n",
       "    .dataframe tbody tr th:only-of-type {\n",
       "        vertical-align: middle;\n",
       "    }\n",
       "\n",
       "    .dataframe tbody tr th {\n",
       "        vertical-align: top;\n",
       "    }\n",
       "\n",
       "    .dataframe thead th {\n",
       "        text-align: right;\n",
       "    }\n",
       "</style>\n",
       "<table border=\"1\" class=\"dataframe\">\n",
       "  <thead>\n",
       "    <tr style=\"text-align: right;\">\n",
       "      <th></th>\n",
       "      <th>pclass</th>\n",
       "      <th>survived</th>\n",
       "      <th>name</th>\n",
       "      <th>sex</th>\n",
       "      <th>age</th>\n",
       "      <th>fare</th>\n",
       "      <th>embarked</th>\n",
       "      <th>fam_size</th>\n",
       "    </tr>\n",
       "  </thead>\n",
       "  <tbody>\n",
       "    <tr>\n",
       "      <th>0</th>\n",
       "      <td>3</td>\n",
       "      <td>1</td>\n",
       "      <td>Smyth, Miss. Julia</td>\n",
       "      <td>female</td>\n",
       "      <td>NaN</td>\n",
       "      <td>7.7333</td>\n",
       "      <td>Q</td>\n",
       "      <td>0</td>\n",
       "    </tr>\n",
       "    <tr>\n",
       "      <th>1</th>\n",
       "      <td>3</td>\n",
       "      <td>1</td>\n",
       "      <td>Glynn, Miss. Mary Agatha</td>\n",
       "      <td>female</td>\n",
       "      <td>NaN</td>\n",
       "      <td>7.7500</td>\n",
       "      <td>Q</td>\n",
       "      <td>0</td>\n",
       "    </tr>\n",
       "    <tr>\n",
       "      <th>2</th>\n",
       "      <td>3</td>\n",
       "      <td>1</td>\n",
       "      <td>Whabee, Mrs. George Joseph (Shawneene Abi-Saab)</td>\n",
       "      <td>female</td>\n",
       "      <td>38.0</td>\n",
       "      <td>7.2292</td>\n",
       "      <td>C</td>\n",
       "      <td>0</td>\n",
       "    </tr>\n",
       "    <tr>\n",
       "      <th>3</th>\n",
       "      <td>3</td>\n",
       "      <td>0</td>\n",
       "      <td>Vovk, Mr. Janko</td>\n",
       "      <td>male</td>\n",
       "      <td>22.0</td>\n",
       "      <td>7.8958</td>\n",
       "      <td>S</td>\n",
       "      <td>0</td>\n",
       "    </tr>\n",
       "    <tr>\n",
       "      <th>4</th>\n",
       "      <td>3</td>\n",
       "      <td>0</td>\n",
       "      <td>de Pelsmaeker, Mr. Alfons</td>\n",
       "      <td>male</td>\n",
       "      <td>16.0</td>\n",
       "      <td>9.5000</td>\n",
       "      <td>S</td>\n",
       "      <td>0</td>\n",
       "    </tr>\n",
       "    <tr>\n",
       "      <th>...</th>\n",
       "      <td>...</td>\n",
       "      <td>...</td>\n",
       "      <td>...</td>\n",
       "      <td>...</td>\n",
       "      <td>...</td>\n",
       "      <td>...</td>\n",
       "      <td>...</td>\n",
       "      <td>...</td>\n",
       "    </tr>\n",
       "    <tr>\n",
       "      <th>976</th>\n",
       "      <td>3</td>\n",
       "      <td>1</td>\n",
       "      <td>Howard, Miss. May Elizabeth</td>\n",
       "      <td>female</td>\n",
       "      <td>NaN</td>\n",
       "      <td>8.0500</td>\n",
       "      <td>S</td>\n",
       "      <td>0</td>\n",
       "    </tr>\n",
       "    <tr>\n",
       "      <th>977</th>\n",
       "      <td>3</td>\n",
       "      <td>1</td>\n",
       "      <td>Dorking, Mr. Edward Arthur</td>\n",
       "      <td>male</td>\n",
       "      <td>19.0</td>\n",
       "      <td>8.0500</td>\n",
       "      <td>S</td>\n",
       "      <td>0</td>\n",
       "    </tr>\n",
       "    <tr>\n",
       "      <th>978</th>\n",
       "      <td>2</td>\n",
       "      <td>0</td>\n",
       "      <td>Gillespie, Mr. William Henry</td>\n",
       "      <td>male</td>\n",
       "      <td>34.0</td>\n",
       "      <td>13.0000</td>\n",
       "      <td>S</td>\n",
       "      <td>0</td>\n",
       "    </tr>\n",
       "    <tr>\n",
       "      <th>979</th>\n",
       "      <td>3</td>\n",
       "      <td>0</td>\n",
       "      <td>Barton, Mr. David John</td>\n",
       "      <td>male</td>\n",
       "      <td>22.0</td>\n",
       "      <td>8.0500</td>\n",
       "      <td>S</td>\n",
       "      <td>0</td>\n",
       "    </tr>\n",
       "    <tr>\n",
       "      <th>980</th>\n",
       "      <td>1</td>\n",
       "      <td>0</td>\n",
       "      <td>Allison, Miss. Helen Loraine</td>\n",
       "      <td>female</td>\n",
       "      <td>2.0</td>\n",
       "      <td>151.5500</td>\n",
       "      <td>S</td>\n",
       "      <td>3</td>\n",
       "    </tr>\n",
       "  </tbody>\n",
       "</table>\n",
       "<p>981 rows × 8 columns</p>\n",
       "</div>"
      ],
      "text/plain": [
       "     pclass  survived                                             name  \\\n",
       "0         3         1                               Smyth, Miss. Julia   \n",
       "1         3         1                         Glynn, Miss. Mary Agatha   \n",
       "2         3         1  Whabee, Mrs. George Joseph (Shawneene Abi-Saab)   \n",
       "3         3         0                                  Vovk, Mr. Janko   \n",
       "4         3         0                        de Pelsmaeker, Mr. Alfons   \n",
       "..      ...       ...                                              ...   \n",
       "976       3         1                      Howard, Miss. May Elizabeth   \n",
       "977       3         1                       Dorking, Mr. Edward Arthur   \n",
       "978       2         0                     Gillespie, Mr. William Henry   \n",
       "979       3         0                           Barton, Mr. David John   \n",
       "980       1         0                     Allison, Miss. Helen Loraine   \n",
       "\n",
       "        sex   age      fare embarked  fam_size  \n",
       "0    female   NaN    7.7333        Q         0  \n",
       "1    female   NaN    7.7500        Q         0  \n",
       "2    female  38.0    7.2292        C         0  \n",
       "3      male  22.0    7.8958        S         0  \n",
       "4      male  16.0    9.5000        S         0  \n",
       "..      ...   ...       ...      ...       ...  \n",
       "976  female   NaN    8.0500        S         0  \n",
       "977    male  19.0    8.0500        S         0  \n",
       "978    male  34.0   13.0000        S         0  \n",
       "979    male  22.0    8.0500        S         0  \n",
       "980  female   2.0  151.5500        S         3  \n",
       "\n",
       "[981 rows x 8 columns]"
      ]
     },
     "execution_count": 19,
     "metadata": {},
     "output_type": "execute_result"
    }
   ],
   "source": [
    "df_initial "
   ]
  },
  {
   "cell_type": "markdown",
   "metadata": {
    "id": "wQOvPyj8Vx00"
   },
   "source": [
    "Based on available statistics, estimate the probability of survival if the passenger is a member of the particular category (this category is pecified in your individual assignment)."
   ]
  },
  {
   "cell_type": "code",
   "execution_count": 28,
   "metadata": {
    "id": "hFpZp4LaeS9Q"
   },
   "outputs": [
    {
     "data": {
      "text/plain": [
       "0.16442048517520216"
      ]
     },
     "execution_count": 28,
     "metadata": {},
     "output_type": "execute_result"
    }
   ],
   "source": [
    "# < ENTER YOUR CODE HERE > \n",
    "round(df_initial[(df_initial['sex']==\"male\")&(df_initial['pclass']==3)]['survived'].value_counts(normalize=True)[1],3)\n",
    "df_initial[(df_initial['sex']==\"male\")&(df_initial['pclass']==3)]['survived'].mean()"
   ]
  },
  {
   "cell_type": "markdown",
   "metadata": {
    "id": "sXxprQtFhSy4"
   },
   "source": [
    "Construct histograms of survivors and non-survivors by age."
   ]
  },
  {
   "cell_type": "code",
   "execution_count": 40,
   "metadata": {
    "id": "K3wHT2Uzr3nb"
   },
   "outputs": [
    {
     "data": {
      "text/plain": [
       "<Axes: ylabel='Frequency'>"
      ]
     },
     "execution_count": 40,
     "metadata": {},
     "output_type": "execute_result"
    },
    {
     "data": {
      "image/png": "[encoded data removed]",
      "text/plain": [
       "<Figure size 800x600 with 1 Axes>"
      ]
     },
     "metadata": {},
     "output_type": "display_data"
    }
   ],
   "source": [
    "# < ENTER YOUR CODE HERE > \n",
    "plt.figure(figsize=(8,6))\n",
    "df_initial[df_initial['survived']==1]['age'].plot(kind='hist',bins =20)"
   ]
  },
  {
   "cell_type": "code",
   "execution_count": 35,
   "metadata": {},
   "outputs": [
    {
     "data": {
      "text/plain": [
       "(array([12.,  3., 13.,  7., 43., 60., 64., 49., 48., 32., 29., 25., 23.,\n",
       "        13., 13.,  7., 11.,  7.,  2.,  3.]),\n",
       " array([ 0.3333  ,  4.016635,  7.69997 , 11.383305, 15.06664 , 18.749975,\n",
       "        22.43331 , 26.116645, 29.79998 , 33.483315, 37.16665 , 40.849985,\n",
       "        44.53332 , 48.216655, 51.89999 , 55.583325, 59.26666 , 62.949995,\n",
       "        66.63333 , 70.316665, 74.      ]),\n",
       " <BarContainer object of 20 artists>)"
      ]
     },
     "execution_count": 35,
     "metadata": {},
     "output_type": "execute_result"
    },
    {
     "data": {
      "image/png": "[encoded data removed]",
      "text/plain": [
       "<Figure size 1000x600 with 1 Axes>"
      ]
     },
     "metadata": {},
     "output_type": "display_data"
    }
   ],
   "source": [
    "# Filter data for survivors and non-survivors\n",
    "survivors = df_initial[df_initial['survived'] == 1]\n",
    "non_survivors = df_initial[df_initial['survived']  == 0]\n",
    "\n",
    "# Plot histograms\n",
    "plt.figure(figsize=(10, 6))\n",
    "\n",
    "# Histogram for survivors\n",
    "plt.hist(survivors['age'].dropna(), bins=20, alpha=0.5, label='Survivors', color='green')\n",
    "\n",
    "# Histogram for non-survivors\n",
    "plt.hist(non_survivors['age'].dropna(), bins=20, alpha=0.5, label='Non-survivors', color='red')\n"
   ]
  },
  {
   "cell_type": "markdown",
   "metadata": {
    "id": "u_bO7O9v0ovG"
   },
   "source": [
    "# Model based on numerical features"
   ]
  },
  {
   "cell_type": "markdown",
   "metadata": {
    "id": "VJPhFX8M38SF"
   },
   "source": [
    "## Removing rows with missing values"
   ]
  },
  {
   "cell_type": "markdown",
   "metadata": {
    "id": "kAO1Bd2Q0qZr"
   },
   "source": [
    "As a base model, it makes sense to build a model with minimal effort.\n",
    "\n",
    "From the initial dataset, remove all categorical features as well as rows containing missing values.\n",
    "\n",
    "Use <code>train_test_split()</code> to split the dataset into training and test samples <b>with the parameters specified in your individual assigment</b>. Use stratification by column <code>survived</code>.\n",
    "\n",
    "Train <code>LogisticRegression()</code> model (<b>with the parameters specified in your individual assigment</b>) on training dataset, and evaluate the model on test dataset.\n",
    "\n",
    "Compute <code>f1_score()</code> of the model on the test dataset (we recommend using <a href=\"https://scikit-learn.org/stable/modules/generated/sklearn.metrics.f1_score.html\">the corresponding function</a> with default parameters)."
   ]
  },
  {
   "cell_type": "code",
   "execution_count": 47,
   "metadata": {
    "id": "8JJ6qQT618Uz"
   },
   "outputs": [
    {
     "data": {
      "text/plain": [
       "0.48"
      ]
     },
     "execution_count": 47,
     "metadata": {},
     "output_type": "execute_result"
    }
   ],
   "source": [
    "# < ENTER YOUR CODE HERE > \n",
    "categorical_columns = df_initial.select_dtypes(include='object').columns\n",
    "df_initial_1 = df_initial.drop(columns=categorical_columns).dropna()\n",
    "df_initial_1 \n",
    "\n",
    "train_data, test_data = train_test_split(df_initial_1, test_size=0.2, random_state=23, stratify=df_initial_1['survived'])\n",
    "X_train = train_data.drop(columns=['survived'])\n",
    "y_train = train_data['survived']\n",
    "X_test = test_data.drop(columns=['survived'])\n",
    "y_test = test_data['survived']\n",
    "\n",
    "model = LogisticRegression(random_state=23, max_iter=1000)\n",
    "model.fit(X_train,y_train)\n",
    "\n",
    "y_pred = model.predict(X_test)\n",
    "f1 = f1_score(y_test, y_pred)\n",
    "round(f1,3)"
   ]
  },
  {
   "cell_type": "markdown",
   "metadata": {
    "id": "UL6H4BxE3y-f"
   },
   "source": [
    "## Filling missing values with the mean"
   ]
  },
  {
   "cell_type": "markdown",
   "metadata": {
    "id": "vD6NntW04OJF"
   },
   "source": [
    "The quality of the resulting model leaves much to be desired. It makes sense to try to fill the missing values. Remove categorical features from the initial dataset, and fill missing values with the mean value of the column. The following steps are similar: splitting, training, evaluation.\n",
    "\n",
    "Compute <code>f1_score()</code> of the model on the test dataset."
   ]
  },
  {
   "cell_type": "code",
   "execution_count": 114,
   "metadata": {
    "id": "zMYFLiWZ4Gw-"
   },
   "outputs": [
    {
     "name": "stdout",
     "output_type": "stream",
     "text": [
      "0.48818897637795283\n"
     ]
    },
    {
     "data": {
      "text/plain": [
       "0.488"
      ]
     },
     "execution_count": 114,
     "metadata": {},
     "output_type": "execute_result"
    }
   ],
   "source": [
    "# < ENTER YOUR CODE HERE > \n",
    "df_initial_2 = df_initial.drop(columns=categorical_columns)\n",
    "df_initial_2 = df_initial_2.fillna(df_initial_2.mean())\n",
    "df_initial_2 \n",
    "\n",
    "train_data, test_data = train_test_split(df_initial_2, test_size=0.2, random_state=23, stratify=df_initial_2['survived'])\n",
    "X_train = train_data.drop(columns=['survived'])\n",
    "y_train = train_data['survived']\n",
    "X_test = test_data.drop(columns=['survived'])\n",
    "y_test = test_data['survived']\n",
    "\n",
    "model = LogisticRegression(random_state=23, max_iter=1000)\n",
    "model.fit(X_train,y_train)\n",
    "\n",
    "y_pred = model.predict(X_test)\n",
    "f1 = f1_score(y_test, y_pred)\n",
    "print(f1)\n",
    "round(f1,3)"
   ]
  },
  {
   "cell_type": "markdown",
   "metadata": {
    "id": "dxuJDvb1_p_e"
   },
   "source": [
    "## Filling missing values based on honorifics"
   ]
  },
  {
   "cell_type": "markdown",
   "metadata": {
    "id": "9ew5okxzKdLh"
   },
   "source": [
    "Obviously, filling missing values in the <code>age</code> column with mean is not the smartest idea. Perhaps you should perform this procedure somehow more intelligently, for example, with an eye on appealing to the person. \n",
    "\n",
    "You can notice that the initial dataset in the column contains information about the social status of the passenger, namely, there are appeals <code>Mr., Mrs., Dr.</code>, etc. Based on this information, we can try to make an assumption about the passenger's age.\n",
    "\n",
    "Put the column <code>name</code> back into consideration. Create a separate <code>honorific</code> column and put the appeal values there.\n",
    "\n",
    "Calculate the number of unique appeals."
   ]
  },
  {
   "cell_type": "markdown",
   "metadata": {},
   "source": []
  },
  {
   "cell_type": "code",
   "execution_count": 216,
   "metadata": {
    "id": "fMbYRoa-DArO"
   },
   "outputs": [
    {
     "name": "stdout",
     "output_type": "stream",
     "text": [
      "14\n"
     ]
    }
   ],
   "source": [
    "# < ENTER YOUR CODE HERE > \n",
    "df_initial_3 = df_initial.drop(columns=categorical_columns)\n",
    "df_initial_3 = df_initial_3.fillna(df_initial_3.mean())\n",
    "df_initial_3['name'] = df_initial['name']\n",
    "df_initial_3['age'] = df_initial['age']\n",
    "\n",
    "df_initial_3['honorific'] = df_initial_3['name'].str.split(', |\\. ').str[1]\n",
    "print(len(df_initial_3['name'].str.split(', |\\. ').str[1].value_counts()))\n"
   ]
  },
  {
   "cell_type": "markdown",
   "metadata": {
    "id": "6HNMeGu9GJWN"
   },
   "source": [
    "Most likely, it makes sense to reduce the number of appeals, adding small groups to the more numerous ones, as there seems to be no fundamental difference between, for example, <code>Don</code> and <code>Mr</code>. Note that <code>Master</code> is a former appeal to a child, we will work with this appeal separately.\n",
    "\n",
    "\n",
    "\n",
    "\n",
    "Make the following substitutions:\n",
    "\n",
    "<code>Mr</code> $\\leftarrow$ <code>['Rev', 'Col', 'Dr', 'Major', 'Don', 'Capt']</code>\n",
    "\n",
    "<code>Mrs</code> $\\leftarrow$ <code> ['Dona', 'Countess']</code>\n",
    "\n",
    "<code>Miss</code> $\\leftarrow$ <code> ['Mlle', 'Ms']</code>"
   ]
  },
  {
   "cell_type": "code",
   "execution_count": 217,
   "metadata": {
    "id": "jiQBH3_8G0SF"
   },
   "outputs": [
    {
     "data": {
      "text/plain": [
       "honorific\n",
       "Mr        590\n",
       "Miss      198\n",
       "Mrs       147\n",
       "Master     46\n",
       "Name: count, dtype: int64"
      ]
     },
     "execution_count": 217,
     "metadata": {},
     "output_type": "execute_result"
    }
   ],
   "source": [
    "# < ENTER YOUR CODE HERE > \n",
    "df_initial_3['honorific'] = df_initial_3['honorific'].replace(['Rev', 'Col', 'Dr', 'Major', 'Don', 'Capt'], 'Mr')\n",
    "df_initial_3['honorific'] = df_initial_3['honorific'].replace(['Dona', 'the Countess'], 'Mrs')\n",
    "df_initial_3['honorific'] = df_initial_3['honorific'].replace(['Mlle', 'Ms'], 'Miss')\n",
    "df_initial_3['honorific'].value_counts()"
   ]
  },
  {
   "cell_type": "markdown",
   "metadata": {
    "id": "qh-KpfttKxYD"
   },
   "source": [
    "Calculate the proportion of rows with the <code>Master</code> value relative to the number of all males."
   ]
  },
  {
   "cell_type": "code",
   "execution_count": 159,
   "metadata": {
    "id": "2g2fHrAGK_CA"
   },
   "outputs": [
    {
     "data": {
      "text/plain": [
       "0.072"
      ]
     },
     "execution_count": 159,
     "metadata": {},
     "output_type": "execute_result"
    }
   ],
   "source": [
    "# < ENTER YOUR CODE HERE > \n",
    "round(46/(46+590),3)"
   ]
  },
  {
   "cell_type": "markdown",
   "metadata": {
    "id": "XD7hs0k7L77K"
   },
   "source": [
    "Calculate the average age of the category specified in your individual assigment."
   ]
  },
  {
   "cell_type": "code",
   "execution_count": 160,
   "metadata": {
    "id": "stKBPTCQMGlf"
   },
   "outputs": [
    {
     "data": {
      "text/plain": [
       "32.9"
      ]
     },
     "execution_count": 160,
     "metadata": {},
     "output_type": "execute_result"
    }
   ],
   "source": [
    "# < ENTER YOUR CODE HERE > \n",
    "round(df_initial_3[df_initial_3['honorific']=='Mr']['age'].mean(),3)"
   ]
  },
  {
   "cell_type": "markdown",
   "metadata": {
    "id": "cQ4Z0tKNLk_B"
   },
   "source": [
    "Fill the missing values in the column <code>age</code> with the mean corresponding to the mean of the <code>honorific</code> category.\n",
    "\n",
    "Get rid of non-numeric features. Next steps are similar: splitting, training, evaluation.\n",
    "\n",
    "Compute <code>f1_score()</code> of the model on the test dataset."
   ]
  },
  {
   "cell_type": "code",
   "execution_count": 162,
   "metadata": {},
   "outputs": [
    {
     "data": {
      "text/plain": [
       "honorific\n",
       "Master     5.128205\n",
       "Miss      22.005765\n",
       "Mr        32.900438\n",
       "Mrs       36.984252\n",
       "Name: age, dtype: float64"
      ]
     },
     "execution_count": 162,
     "metadata": {},
     "output_type": "execute_result"
    }
   ],
   "source": [
    "mean_age_by_honorific = df_initial_3.groupby('honorific')['age'].mean()\n",
    "mean_age_by_honorific "
   ]
  },
  {
   "cell_type": "code",
   "execution_count": 213,
   "metadata": {},
   "outputs": [
    {
     "data": {
      "text/plain": [
       "0"
      ]
     },
     "execution_count": 213,
     "metadata": {},
     "output_type": "execute_result"
    }
   ],
   "source": [
    "df_initial_3['age'].isna().sum()"
   ]
  },
  {
   "cell_type": "code",
   "execution_count": 211,
   "metadata": {},
   "outputs": [
    {
     "data": {
      "text/plain": [
       "133"
      ]
     },
     "execution_count": 211,
     "metadata": {},
     "output_type": "execute_result"
    }
   ],
   "source": [
    "df_initial_3['age'][(df_initial_3['honorific']==\"Mr\")].isna().sum()"
   ]
  },
  {
   "cell_type": "code",
   "execution_count": 218,
   "metadata": {},
   "outputs": [],
   "source": [
    "df_initial_3.loc[(df_initial_3['honorific'] == 'Master') & (df_initial_3['age'].isna()), 'age'] = mean_age_by_honorific['Master']\n",
    "df_initial_3.loc[(df_initial_3['honorific'] == 'Miss') & (df_initial_3['age'].isna()), 'age'] = mean_age_by_honorific['Miss']\n",
    "df_initial_3.loc[(df_initial_3['honorific'] == 'Mrs') & (df_initial_3['age'].isna()), 'age'] = mean_age_by_honorific['Mrs']\n",
    "df_initial_3.loc[(df_initial_3['honorific'] == 'Mr') & (df_initial_3['age'].isna()), 'age'] = mean_age_by_honorific['Mr']"
   ]
  },
  {
   "cell_type": "code",
   "execution_count": 220,
   "metadata": {},
   "outputs": [],
   "source": [
    "df_initial_3 = df_initial_3.drop(columns=['name','honorific'])"
   ]
  },
  {
   "cell_type": "code",
   "execution_count": 221,
   "metadata": {
    "id": "B5c_i_6HN3aA"
   },
   "outputs": [
    {
     "data": {
      "text/plain": [
       "0.484"
      ]
     },
     "execution_count": 221,
     "metadata": {},
     "output_type": "execute_result"
    }
   ],
   "source": [
    "# < ENTER YOUR CODE HERE > \n",
    "train_data, test_data = train_test_split(df_initial_3, test_size=0.2, random_state=23, stratify=df_initial_3['survived'])\n",
    "X_train = train_data.drop(columns=['survived'])\n",
    "y_train = train_data['survived']\n",
    "X_test = test_data.drop(columns=['survived'])\n",
    "y_test = test_data['survived']\n",
    "\n",
    "model = LogisticRegression(random_state=23, max_iter=1000)\n",
    "model.fit(X_train,y_train)\n",
    "\n",
    "y_pred = model.predict(X_test)\n",
    "f1 = f1_score(y_test, y_pred)\n",
    "round(f1,3)\n"
   ]
  },
  {
   "cell_type": "markdown",
   "metadata": {
    "id": "YGCBn1fiSbjG"
   },
   "source": [
    "# Model that uses categorical features"
   ]
  },
  {
   "cell_type": "markdown",
   "metadata": {
    "id": "BlILajPNTMgL"
   },
   "source": [
    "In the original dataset, fill the missing values in the column <code>age</code> with values based on the appeals (as in the previous step). \n",
    "\n",
    "After that, drop the features <code>name</code> and <code>honorific</code>. They have fulfilled their function.\n",
    "\n",
    "Perform <code>one-hot</code> encoding of the non-numeric features, for example, with <code>pd.get_dummies(drop_first=True)</code>. Then follow the familiar pattern: split, train, evaluate.\n",
    "\n",
    "Compute <code>f1_score()</code> of the model on the test dataset."
   ]
  },
  {
   "cell_type": "code",
   "execution_count": 227,
   "metadata": {},
   "outputs": [
    {
     "data": {
      "text/html": [
       "<div>\n",
       "<style scoped>\n",
       "    .dataframe tbody tr th:only-of-type {\n",
       "        vertical-align: middle;\n",
       "    }\n",
       "\n",
       "    .dataframe tbody tr th {\n",
       "        vertical-align: top;\n",
       "    }\n",
       "\n",
       "    .dataframe thead th {\n",
       "        text-align: right;\n",
       "    }\n",
       "</style>\n",
       "<table border=\"1\" class=\"dataframe\">\n",
       "  <thead>\n",
       "    <tr style=\"text-align: right;\">\n",
       "      <th></th>\n",
       "      <th>pclass</th>\n",
       "      <th>survived</th>\n",
       "      <th>age</th>\n",
       "      <th>fare</th>\n",
       "      <th>fam_size</th>\n",
       "      <th>sex_male</th>\n",
       "      <th>embarked_Q</th>\n",
       "      <th>embarked_S</th>\n",
       "    </tr>\n",
       "  </thead>\n",
       "  <tbody>\n",
       "    <tr>\n",
       "      <th>0</th>\n",
       "      <td>3</td>\n",
       "      <td>1</td>\n",
       "      <td>22.005765</td>\n",
       "      <td>7.7333</td>\n",
       "      <td>0</td>\n",
       "      <td>False</td>\n",
       "      <td>True</td>\n",
       "      <td>False</td>\n",
       "    </tr>\n",
       "    <tr>\n",
       "      <th>1</th>\n",
       "      <td>3</td>\n",
       "      <td>1</td>\n",
       "      <td>22.005765</td>\n",
       "      <td>7.7500</td>\n",
       "      <td>0</td>\n",
       "      <td>False</td>\n",
       "      <td>True</td>\n",
       "      <td>False</td>\n",
       "    </tr>\n",
       "    <tr>\n",
       "      <th>2</th>\n",
       "      <td>3</td>\n",
       "      <td>1</td>\n",
       "      <td>38.000000</td>\n",
       "      <td>7.2292</td>\n",
       "      <td>0</td>\n",
       "      <td>False</td>\n",
       "      <td>False</td>\n",
       "      <td>False</td>\n",
       "    </tr>\n",
       "    <tr>\n",
       "      <th>3</th>\n",
       "      <td>3</td>\n",
       "      <td>0</td>\n",
       "      <td>22.000000</td>\n",
       "      <td>7.8958</td>\n",
       "      <td>0</td>\n",
       "      <td>True</td>\n",
       "      <td>False</td>\n",
       "      <td>True</td>\n",
       "    </tr>\n",
       "    <tr>\n",
       "      <th>4</th>\n",
       "      <td>3</td>\n",
       "      <td>0</td>\n",
       "      <td>16.000000</td>\n",
       "      <td>9.5000</td>\n",
       "      <td>0</td>\n",
       "      <td>True</td>\n",
       "      <td>False</td>\n",
       "      <td>True</td>\n",
       "    </tr>\n",
       "    <tr>\n",
       "      <th>...</th>\n",
       "      <td>...</td>\n",
       "      <td>...</td>\n",
       "      <td>...</td>\n",
       "      <td>...</td>\n",
       "      <td>...</td>\n",
       "      <td>...</td>\n",
       "      <td>...</td>\n",
       "      <td>...</td>\n",
       "    </tr>\n",
       "    <tr>\n",
       "      <th>976</th>\n",
       "      <td>3</td>\n",
       "      <td>1</td>\n",
       "      <td>22.005765</td>\n",
       "      <td>8.0500</td>\n",
       "      <td>0</td>\n",
       "      <td>False</td>\n",
       "      <td>False</td>\n",
       "      <td>True</td>\n",
       "    </tr>\n",
       "    <tr>\n",
       "      <th>977</th>\n",
       "      <td>3</td>\n",
       "      <td>1</td>\n",
       "      <td>19.000000</td>\n",
       "      <td>8.0500</td>\n",
       "      <td>0</td>\n",
       "      <td>True</td>\n",
       "      <td>False</td>\n",
       "      <td>True</td>\n",
       "    </tr>\n",
       "    <tr>\n",
       "      <th>978</th>\n",
       "      <td>2</td>\n",
       "      <td>0</td>\n",
       "      <td>34.000000</td>\n",
       "      <td>13.0000</td>\n",
       "      <td>0</td>\n",
       "      <td>True</td>\n",
       "      <td>False</td>\n",
       "      <td>True</td>\n",
       "    </tr>\n",
       "    <tr>\n",
       "      <th>979</th>\n",
       "      <td>3</td>\n",
       "      <td>0</td>\n",
       "      <td>22.000000</td>\n",
       "      <td>8.0500</td>\n",
       "      <td>0</td>\n",
       "      <td>True</td>\n",
       "      <td>False</td>\n",
       "      <td>True</td>\n",
       "    </tr>\n",
       "    <tr>\n",
       "      <th>980</th>\n",
       "      <td>1</td>\n",
       "      <td>0</td>\n",
       "      <td>2.000000</td>\n",
       "      <td>151.5500</td>\n",
       "      <td>3</td>\n",
       "      <td>False</td>\n",
       "      <td>False</td>\n",
       "      <td>True</td>\n",
       "    </tr>\n",
       "  </tbody>\n",
       "</table>\n",
       "<p>981 rows × 8 columns</p>\n",
       "</div>"
      ],
      "text/plain": [
       "     pclass  survived        age      fare  fam_size  sex_male  embarked_Q  \\\n",
       "0         3         1  22.005765    7.7333         0     False        True   \n",
       "1         3         1  22.005765    7.7500         0     False        True   \n",
       "2         3         1  38.000000    7.2292         0     False       False   \n",
       "3         3         0  22.000000    7.8958         0      True       False   \n",
       "4         3         0  16.000000    9.5000         0      True       False   \n",
       "..      ...       ...        ...       ...       ...       ...         ...   \n",
       "976       3         1  22.005765    8.0500         0     False       False   \n",
       "977       3         1  19.000000    8.0500         0      True       False   \n",
       "978       2         0  34.000000   13.0000         0      True       False   \n",
       "979       3         0  22.000000    8.0500         0      True       False   \n",
       "980       1         0   2.000000  151.5500         3     False       False   \n",
       "\n",
       "     embarked_S  \n",
       "0         False  \n",
       "1         False  \n",
       "2         False  \n",
       "3          True  \n",
       "4          True  \n",
       "..          ...  \n",
       "976        True  \n",
       "977        True  \n",
       "978        True  \n",
       "979        True  \n",
       "980        True  \n",
       "\n",
       "[981 rows x 8 columns]"
      ]
     },
     "execution_count": 227,
     "metadata": {},
     "output_type": "execute_result"
    }
   ],
   "source": [
    "df_initial_4 = df_initial\n",
    "\n",
    "# NA\n",
    "\n",
    "df_initial_4['honorific'] = df_initial_4['name'].str.split(', |\\. ').str[1]\n",
    "df_initial_4['honorific'] = df_initial_4['honorific'].replace(['Rev', 'Col', 'Dr', 'Major', 'Don', 'Capt'], 'Mr')\n",
    "df_initial_4['honorific'] = df_initial_4['honorific'].replace(['Dona', 'the Countess'], 'Mrs')\n",
    "df_initial_4['honorific'] = df_initial_4['honorific'].replace(['Mlle', 'Ms'], 'Miss')\n",
    "\n",
    "mean_age_by_honorific = df_initial_3.groupby('honorific')['age'].mean()\n",
    "\n",
    "df_initial_4.loc[(df_initial_4['honorific'] == 'Master') & (df_initial_4['age'].isna()), 'age'] = mean_age_by_honorific['Master']\n",
    "df_initial_4.loc[(df_initial_4['honorific'] == 'Miss') & (df_initial_4['age'].isna()), 'age'] = mean_age_by_honorific['Miss']\n",
    "df_initial_4.loc[(df_initial_4['honorific'] == 'Mrs') & (df_initial_4['age'].isna()), 'age'] = mean_age_by_honorific['Mrs']\n",
    "df_initial_4.loc[(df_initial_4['honorific'] == 'Mr') & (df_initial_4['age'].isna()), 'age'] = mean_age_by_honorific['Mr']\n",
    "\n",
    "df_initial_4 = df_initial_4.drop(columns=['name','honorific'])\n",
    "\n",
    "# Categorical\n",
    "\n",
    "df_initial_4_encoded = pd.get_dummies(df_initial_4, columns=['sex', 'embarked'], drop_first=True)\n",
    "df_initial_4_encoded"
   ]
  },
  {
   "cell_type": "code",
   "execution_count": 228,
   "metadata": {
    "id": "AiRm3GIdUsVt"
   },
   "outputs": [
    {
     "data": {
      "text/plain": [
       "0.681"
      ]
     },
     "execution_count": 228,
     "metadata": {},
     "output_type": "execute_result"
    }
   ],
   "source": [
    "# < ENTER YOUR CODE HERE > \n",
    "train_data, test_data = train_test_split(df_initial_4_encoded, test_size=0.2, random_state=23, stratify=df_initial_4_encoded['survived'])\n",
    "X_train = train_data.drop(columns=['survived'])\n",
    "y_train = train_data['survived']\n",
    "X_test = test_data.drop(columns=['survived'])\n",
    "y_test = test_data['survived']\n",
    "\n",
    "model = LogisticRegression(random_state=23, max_iter=1000)\n",
    "model.fit(X_train,y_train)\n",
    "\n",
    "y_pred = model.predict(X_test)\n",
    "f1 = f1_score(y_test, y_pred)\n",
    "round(f1,3)\n"
   ]
  }
 ],
 "metadata": {
  "colab": {
   "provenance": []
  },
  "kernelspec": {
   "display_name": "Python 3 (ipykernel)",
   "language": "python",
   "name": "python3"
  },
  "language_info": {
   "codemirror_mode": {
    "name": "ipython",
    "version": 3
   },
   "file_extension": ".py",
   "mimetype": "text/x-python",
   "name": "python",
   "nbconvert_exporter": "python",
   "pygments_lexer": "ipython3",
   "version": "3.9.6"
  }
 },
 "nbformat": 4,
 "nbformat_minor": 1
}
