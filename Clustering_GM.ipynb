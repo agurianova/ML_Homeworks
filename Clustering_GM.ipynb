{
 "cells": [
  {
   "cell_type": "markdown",
   "metadata": {
    "id": "aqMY86T_7hsP",
    "pycharm": {
     "name": "#%% md\n"
    }
   },
   "source": [
    "# Generative model based on Gaussian mixtures"
   ]
  },
  {
   "cell_type": "markdown",
   "metadata": {
    "id": "mRtfBj7s7hsP",
    "pycharm": {
     "name": "#%% md\n"
    }
   },
   "source": [
    "Gaussian mixtures are a natural mathematical generalization of the K-means algorithm. Essentially, the approach looks for some mixture of multivariate normal distributions (essentially also clumps around the mean with their variance) rather than just some clumps around the forming centroids. Since this approach estimates probability densities, it is often used in KDE (kernel density estimation) tasks. Among other things, it can be applied to the generation task: if there is a probability density function, we can sample and get new objects. In this task, we will look at the simplest example of solving such a problem."
   ]
  },
  {
   "cell_type": "markdown",
   "metadata": {
    "id": "MY-avo2u7hsP",
    "pycharm": {
     "name": "#%% md\n"
    }
   },
   "source": [
    "Again, we'll be working with `MNIST`. Since the model turns out to be extremely heavy, we will use a \"simple\" dataset. Let's visualize the elements of this dataset (for clarity)."
   ]
  },
  {
   "cell_type": "code",
   "execution_count": 20,
   "metadata": {},
   "outputs": [],
   "source": [
    "import numpy as np"
   ]
  },
  {
   "cell_type": "code",
   "execution_count": 13,
   "metadata": {
    "colab": {
     "base_uri": "https://localhost:8080/"
    },
    "executionInfo": {
     "elapsed": 1813,
     "status": "ok",
     "timestamp": 1683277064196,
     "user": {
      "displayName": "Дмитрий Волчек",
      "userId": "12396512946067001179"
     },
     "user_tz": -180
    },
    "id": "dCNn7ks97hsP",
    "outputId": "ba12fb31-e161-460f-e7fd-75f74b0e01f1",
    "pycharm": {
     "name": "#%%\n"
    }
   },
   "outputs": [
    {
     "data": {
      "text/plain": [
       "(1797, 64)"
      ]
     },
     "execution_count": 13,
     "metadata": {},
     "output_type": "execute_result"
    }
   ],
   "source": [
    "from sklearn.datasets import load_digits\n",
    "import matplotlib.pyplot as plt\n",
    "\n",
    "digits = load_digits()\n",
    "digits.data.shape"
   ]
  },
  {
   "cell_type": "code",
   "execution_count": 14,
   "metadata": {
    "colab": {
     "base_uri": "https://localhost:8080/",
     "height": 653
    },
    "executionInfo": {
     "elapsed": 23565,
     "status": "ok",
     "timestamp": 1683277089752,
     "user": {
      "displayName": "Дмитрий Волчек",
      "userId": "12396512946067001179"
     },
     "user_tz": -180
    },
    "id": "ygsNMoYZ7hsQ",
    "outputId": "385b743e-292c-4378-9658-6458d3776718",
    "pycharm": {
     "name": "#%%\n"
    }
   },
   "outputs": [
    {
     "data": {
      "image/png": "[encoded data removed]",
      "text/plain": [
       "<Figure size 800x800 with 100 Axes>"
      ]
     },
     "metadata": {},
     "output_type": "display_data"
    }
   ],
   "source": [
    "fig, ax = plt.subplots(10, 10, figsize=(8, 8), subplot_kw=dict(xticks=[], yticks=[]))\n",
    "fig.subplots_adjust(hspace=0.05, wspace=0.05)\n",
    "for i, axi in enumerate(ax.flat):\n",
    "    im = axi.imshow(digits.data[i].reshape(8,8), cmap='binary')\n",
    "    im.set_clim(0, 16)"
   ]
  },
  {
   "cell_type": "markdown",
   "metadata": {
    "id": "wXcooMSH7hsQ",
    "pycharm": {
     "name": "#%% md\n"
    }
   },
   "source": [
    "To make the training faster, it makes sense to reduce the dimensionality of the feature space. Perform the transformations for the entire dataset using <code>PCA(n_components=0.99, svd_solver=='full')</code>."
   ]
  },
  {
   "cell_type": "code",
   "execution_count": 15,
   "metadata": {},
   "outputs": [],
   "source": [
    "from sklearn.decomposition import PCA"
   ]
  },
  {
   "cell_type": "code",
   "execution_count": 16,
   "metadata": {
    "id": "p76FXvva7hsQ",
    "pycharm": {
     "name": "#%%\n"
    }
   },
   "outputs": [
    {
     "data": {
      "text/plain": [
       "41"
      ]
     },
     "execution_count": 16,
     "metadata": {},
     "output_type": "execute_result"
    }
   ],
   "source": [
    "# < ENTER YOUR CODE HERE > \n",
    "pca = PCA(n_components=0.99, svd_solver='full')\n",
    "X_pca = pca.fit_transform(digits.data)\n",
    "pca.n_components_\n"
   ]
  },
  {
   "cell_type": "markdown",
   "metadata": {
    "id": "Ma5b_5mlpjCM"
   },
   "source": [
    "Enter the number of principal components obtained."
   ]
  },
  {
   "cell_type": "code",
   "execution_count": 17,
   "metadata": {
    "id": "AyUeawEt7hsQ",
    "pycharm": {
     "name": "#%%\n"
    }
   },
   "outputs": [
    {
     "data": {
      "text/plain": [
       "(1797, 41)"
      ]
     },
     "execution_count": 17,
     "metadata": {},
     "output_type": "execute_result"
    }
   ],
   "source": [
    "# < ENTER YOUR CODE HERE > \n",
    "X_pca.shape"
   ]
  },
  {
   "cell_type": "markdown",
   "metadata": {
    "id": "gwArf-clzg2m"
   },
   "source": [
    "We train the model of interest by selecting the hyperparameter responsible for the number of components used, minimizing the <a href=\"https://en.wikipedia.org/wiki/Akaike_information_criterion\">Akaike information criterion</a>.\n",
    "\n",
    "For <code>n_components</code> values in the range \\([50,250)\\) in increments of \\(10\\) train models <a href=\"https://scikit-learn.org/stable/modules/generated/sklearn.mixture.GaussianMixture.html\"><code>GaussianMixture</code></a> with the parameters specified in your assignment. Use the method <code>.aic()</code> to calculate the criterion value of each model.\n",
    "\n",
    "Enter the <code>n_components</code> value of the model with the lowest value of the Akaike criterion."
   ]
  },
  {
   "cell_type": "code",
   "execution_count": 36,
   "metadata": {},
   "outputs": [
    {
     "data": {
      "text/plain": [
       "array([ 50,  60,  70,  80,  90, 100, 110, 120, 130, 140, 150, 160, 170,\n",
       "       180, 190, 200, 210, 220, 230, 240])"
      ]
     },
     "execution_count": 36,
     "metadata": {},
     "output_type": "execute_result"
    }
   ],
   "source": [
    "import numpy as np\n",
    "np.arange(50, 250, 10)"
   ]
  },
  {
   "cell_type": "code",
   "execution_count": 38,
   "metadata": {
    "id": "kh26_izK7hsQ",
    "pycharm": {
     "name": "#%%\n"
    }
   },
   "outputs": [
    {
     "data": {
      "text/plain": [
       "200"
      ]
     },
     "execution_count": 38,
     "metadata": {},
     "output_type": "execute_result"
    }
   ],
   "source": [
    "# < ENTER YOUR CODE HERE > \n",
    "from sklearn import mixture\n",
    "import numpy as np\n",
    "#from tqdm.notebook import tkdm\n",
    "\n",
    "n_components = np.arange(50, 250, 10)\n",
    "gmm_models = [mixture.GaussianMixture(n_components=n, covariance_type='full',random_state=41) for n in n_components]\n",
    "aics = [model.fit(X_pca).aic(X_pca) for model in gmm_models]\n",
    "best_n_components = n_components[np.argmin(aics)]\n",
    "best_n_components "
   ]
  },
  {
   "cell_type": "code",
   "execution_count": 43,
   "metadata": {},
   "outputs": [
    {
     "data": {
      "text/plain": [
       "[<matplotlib.lines.Line2D at 0x16a102e80>]"
      ]
     },
     "execution_count": 43,
     "metadata": {},
     "output_type": "execute_result"
    },
    {
     "data": {
      "image/png": "[encoded data removed]",
      "text/plain": [
       "<Figure size 1000x600 with 1 Axes>"
      ]
     },
     "metadata": {},
     "output_type": "display_data"
    }
   ],
   "source": [
    "import matplotlib.pyplot as plt\n",
    "plt.figure(figsize=(10, 6))\n",
    "plt.plot(n_components, aics, marker='o', linestyle='-')"
   ]
  },
  {
   "cell_type": "markdown",
   "metadata": {
    "id": "LIoODHeP7hsR",
    "pycharm": {
     "name": "#%% md\n"
    }
   },
   "source": [
    "Train the final model on the selected hyperparameter. Check that the training has converged (the field <code>.converged_</code> of the model)."
   ]
  },
  {
   "cell_type": "code",
   "execution_count": 44,
   "metadata": {
    "id": "c7oq5tkZ7hsR",
    "pycharm": {
     "name": "#%%\n"
    }
   },
   "outputs": [
    {
     "name": "stdout",
     "output_type": "stream",
     "text": [
      "The model has converged.\n"
     ]
    }
   ],
   "source": [
    "# < ENTER YOUR CODE HERE > \n",
    "final_gmm = mixture.GaussianMixture(n_components=best_n_components, covariance_type='full', random_state=41)\n",
    "final_gmm.fit(X_pca)\n",
    "\n",
    "# Check if the model has converged\n",
    "if final_gmm.converged_:\n",
    "    print(\"The model has converged.\")\n",
    "else:\n",
    "    print(\"Warning: The model has not converged.\")"
   ]
  },
  {
   "cell_type": "markdown",
   "metadata": {
    "id": "p1vjovgA7hsR",
    "pycharm": {
     "name": "#%% md\n"
    }
   },
   "source": [
    "Use the method <code>.sample()</code> to generate $100$ new objects.\n",
    "\n",
    "Enter the sample mean of the cooridnates with index $0$ of the generated objects."
   ]
  },
  {
   "cell_type": "code",
   "execution_count": 46,
   "metadata": {
    "id": "VHMKmOSq7hsS",
    "pycharm": {
     "name": "#%%\n"
    }
   },
   "outputs": [
    {
     "data": {
      "text/plain": [
       "0.831"
      ]
     },
     "execution_count": 46,
     "metadata": {},
     "output_type": "execute_result"
    }
   ],
   "source": [
    "# < ENTER YOUR CODE HERE > \n",
    "generated_samples = final_gmm.sample(100)[0]\n",
    "round(np.mean(generated_samples[:, 0]),3)"
   ]
  },
  {
   "cell_type": "markdown",
   "metadata": {
    "id": "l_PI0NTc7hsS",
    "pycharm": {
     "name": "#%% md\n"
    }
   },
   "source": [
    "Using the <code>.inverse_transform()</code> method of the class <code>PCA</code>, return the generated objects to the original feature space."
   ]
  },
  {
   "cell_type": "code",
   "execution_count": 48,
   "metadata": {},
   "outputs": [],
   "source": [
    "generated_samples_original_dimens = pca.inverse_transform(generated_samples)"
   ]
  },
  {
   "cell_type": "markdown",
   "metadata": {
    "id": "cgRK_l2G8I6p"
   },
   "source": [
    "Visualize the results. Enter the image number corresponding to the generated object with the index specified in your assignment (indexing starts from zero)."
   ]
  },
  {
   "cell_type": "code",
   "execution_count": 50,
   "metadata": {
    "id": "_KLbxq297hsS",
    "pycharm": {
     "name": "#%%\n"
    }
   },
   "outputs": [
    {
     "data": {
      "image/png": "[encoded data removed]",
      "text/plain": [
       "<Figure size 640x480 with 1 Axes>"
      ]
     },
     "metadata": {},
     "output_type": "display_data"
    }
   ],
   "source": [
    "# < ENTER YOUR CODE HERE > \n",
    "plt.imshow(generated_samples_original_dimens[17].reshape(8,8),cmap='binary')\n",
    "plt.axis('off')\n",
    "plt.clim(0,16)"
   ]
  }
 ],
 "metadata": {
  "colab": {
   "provenance": []
  },
  "kernelspec": {
   "display_name": "Python 3 (ipykernel)",
   "language": "python",
   "name": "python3"
  },
  "language_info": {
   "codemirror_mode": {
    "name": "ipython",
    "version": 3
   },
   "file_extension": ".py",
   "mimetype": "text/x-python",
   "name": "python",
   "nbconvert_exporter": "python",
   "pygments_lexer": "ipython3",
   "version": "3.9.6"
  }
 },
 "nbformat": 4,
 "nbformat_minor": 1
}
