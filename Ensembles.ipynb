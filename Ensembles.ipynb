{
 "cells": [
  {
   "cell_type": "markdown",
   "metadata": {
    "id": "FkbP5g9IOwKf"
   },
   "source": [
    "---\n",
    "\n",
    "# Ensembles of models"
   ]
  },
  {
   "cell_type": "markdown",
   "metadata": {
    "id": "7cfqqTD-OwKg"
   },
   "source": [
    "In this assignment, we will consider the application of some classical and well-proven ensemble algorithms. We will demonstrate the work of these algorithms using electricity consumption dataset."
   ]
  },
  {
   "cell_type": "markdown",
   "metadata": {
    "id": "SnV_mUTS1yY9"
   },
   "source": [
    "# Dataset description"
   ]
  },
  {
   "cell_type": "markdown",
   "metadata": {
    "id": "EnfByH4SuGGM"
   },
   "source": [
    "**Author**: M. Harries, J. Gama, A. Bifet  \n",
    "**Source**: [Joao Gama](http://www.inescporto.pt/~jgama/ales/ales_5.html) - 2009  \n",
    "**Please cite**: None  \n",
    "\n",
    "**Electricity** is a widely used dataset described by M. Harries and analyzed by J. Gama (see papers below). This data was collected from the Australian New South Wales Electricity Market. In this market, prices are not fixed and are affected by demand and supply of the market. They are set every five minutes. Electricity transfers to/from the neighboring state of Victoria were done to alleviate fluctuations.\n",
    "\n",
    "The dataset (originally named ELEC2) contains 45,312 instances dated from 7 May 1996 to 5 December 1998. Each example of the dataset refers to a period of 30 minutes, i.e. there are 48 instances for each time period of one day. Each example on the dataset has 5 fields, the day of week, the time stamp, the New South Wales electricity demand, the Victoria electricity demand, the scheduled electricity transfer between states and the class label. The class label identifies the change of the price (UP or DOWN) in New South Wales relative to a moving average of the last 24 hours (and removes the impact of longer term price trends). \n",
    "\n",
    "The data was normalized by A. Bifet.\n",
    "\n",
    "### Attribute information  \n",
    "* Date: date between 7 May 1996 to 5 December 1998. Here normalized between 0 and 1\n",
    "* Day: day of the week (1-7)\n",
    "* Period: time of the measurement (1-48) in half hour intervals over 24 hours. Here normalized between 0 and 1\n",
    "* NSWprice: New South Wales electricity price, normalized between 0 and 1\n",
    "* NSWdemand: New South Wales electricity demand, normalized between 0 and 1\n",
    "* VICprice: Victoria electricity price, normalized between 0 and 1\n",
    "* VICdemand: Victoria electricity demand, normalized between 0 and 1\n",
    "* transfer: scheduled electricity transfer between both states, normalized between 0 and 1\n",
    "\n",
    "### Relevant papers  \n",
    "M. Harries. Splice-2 comparative evaluation: Electricity pricing. Technical report, The University of South Wales, 1999.  \n",
    "J. Gama, P. Medas, G. Castillo, and P. Rodrigues. Learning with drift detection. In SBIA Brazilian Symposium on Artificial Intelligence, pages 286–295, 2004."
   ]
  },
  {
   "cell_type": "markdown",
   "metadata": {
    "id": "iF1Dq_b5OwKh"
   },
   "source": [
    "# Exploratory data analysis"
   ]
  },
  {
   "cell_type": "markdown",
   "metadata": {
    "id": "JiuUwJN52OFV"
   },
   "source": [
    "Read the dataset into a dataframe"
   ]
  },
  {
   "cell_type": "code",
   "execution_count": 15,
   "metadata": {},
   "outputs": [],
   "source": [
    "import numpy as np\n",
    "import pandas as pd\n",
    "import matplotlib.pyplot as plt\n",
    "import seaborn as sns"
   ]
  },
  {
   "cell_type": "code",
   "execution_count": 2,
   "metadata": {
    "id": "ZDPVa8Dut_qJ"
   },
   "outputs": [],
   "source": [
    "# < ENTER YOUR CODE HERE > \n",
    "df = pd.read_csv('/Users/lune/Education/Machine learning/Ensemble/electricity_train.csv')"
   ]
  },
  {
   "cell_type": "markdown",
   "metadata": {
    "id": "7gPhTkzt2vey"
   },
   "source": [
    "Use the <code>.describe()</code> method to explore the dataset \"from a bird's eye view\"."
   ]
  },
  {
   "cell_type": "code",
   "execution_count": 3,
   "metadata": {
    "id": "MUO2PzGE2vC3"
   },
   "outputs": [
    {
     "data": {
      "text/html": [
       "<div>\n",
       "<style scoped>\n",
       "    .dataframe tbody tr th:only-of-type {\n",
       "        vertical-align: middle;\n",
       "    }\n",
       "\n",
       "    .dataframe tbody tr th {\n",
       "        vertical-align: top;\n",
       "    }\n",
       "\n",
       "    .dataframe thead th {\n",
       "        text-align: right;\n",
       "    }\n",
       "</style>\n",
       "<table border=\"1\" class=\"dataframe\">\n",
       "  <thead>\n",
       "    <tr style=\"text-align: right;\">\n",
       "      <th></th>\n",
       "      <th>date</th>\n",
       "      <th>day</th>\n",
       "      <th>period</th>\n",
       "      <th>nswprice</th>\n",
       "      <th>nswdemand</th>\n",
       "      <th>vicprice</th>\n",
       "      <th>vicdemand</th>\n",
       "      <th>transfer</th>\n",
       "      <th>class</th>\n",
       "    </tr>\n",
       "  </thead>\n",
       "  <tbody>\n",
       "    <tr>\n",
       "      <th>count</th>\n",
       "      <td>36249.000000</td>\n",
       "      <td>36249.000000</td>\n",
       "      <td>36249.000000</td>\n",
       "      <td>36249.000000</td>\n",
       "      <td>36249.000000</td>\n",
       "      <td>36249.000000</td>\n",
       "      <td>36249.000000</td>\n",
       "      <td>36249.000000</td>\n",
       "      <td>36249.000000</td>\n",
       "    </tr>\n",
       "    <tr>\n",
       "      <th>mean</th>\n",
       "      <td>0.498293</td>\n",
       "      <td>4.006566</td>\n",
       "      <td>0.500560</td>\n",
       "      <td>0.057828</td>\n",
       "      <td>0.425939</td>\n",
       "      <td>0.003455</td>\n",
       "      <td>0.423024</td>\n",
       "      <td>0.500243</td>\n",
       "      <td>0.424536</td>\n",
       "    </tr>\n",
       "    <tr>\n",
       "      <th>std</th>\n",
       "      <td>0.339907</td>\n",
       "      <td>1.993551</td>\n",
       "      <td>0.294998</td>\n",
       "      <td>0.039052</td>\n",
       "      <td>0.163390</td>\n",
       "      <td>0.010175</td>\n",
       "      <td>0.120600</td>\n",
       "      <td>0.153098</td>\n",
       "      <td>0.494279</td>\n",
       "    </tr>\n",
       "    <tr>\n",
       "      <th>min</th>\n",
       "      <td>0.000000</td>\n",
       "      <td>1.000000</td>\n",
       "      <td>0.000000</td>\n",
       "      <td>0.000000</td>\n",
       "      <td>0.000000</td>\n",
       "      <td>0.000000</td>\n",
       "      <td>0.000000</td>\n",
       "      <td>0.000000</td>\n",
       "      <td>0.000000</td>\n",
       "    </tr>\n",
       "    <tr>\n",
       "      <th>25%</th>\n",
       "      <td>0.031945</td>\n",
       "      <td>2.000000</td>\n",
       "      <td>0.255319</td>\n",
       "      <td>0.035187</td>\n",
       "      <td>0.309729</td>\n",
       "      <td>0.002283</td>\n",
       "      <td>0.373382</td>\n",
       "      <td>0.414912</td>\n",
       "      <td>0.000000</td>\n",
       "    </tr>\n",
       "    <tr>\n",
       "      <th>50%</th>\n",
       "      <td>0.456263</td>\n",
       "      <td>4.000000</td>\n",
       "      <td>0.510638</td>\n",
       "      <td>0.048787</td>\n",
       "      <td>0.444213</td>\n",
       "      <td>0.003467</td>\n",
       "      <td>0.422915</td>\n",
       "      <td>0.414912</td>\n",
       "      <td>0.000000</td>\n",
       "    </tr>\n",
       "    <tr>\n",
       "      <th>75%</th>\n",
       "      <td>0.880492</td>\n",
       "      <td>6.000000</td>\n",
       "      <td>0.765957</td>\n",
       "      <td>0.074457</td>\n",
       "      <td>0.536745</td>\n",
       "      <td>0.003467</td>\n",
       "      <td>0.468669</td>\n",
       "      <td>0.605263</td>\n",
       "      <td>1.000000</td>\n",
       "    </tr>\n",
       "    <tr>\n",
       "      <th>max</th>\n",
       "      <td>1.000000</td>\n",
       "      <td>7.000000</td>\n",
       "      <td>1.000000</td>\n",
       "      <td>1.000000</td>\n",
       "      <td>0.980809</td>\n",
       "      <td>1.000000</td>\n",
       "      <td>1.000000</td>\n",
       "      <td>0.959211</td>\n",
       "      <td>1.000000</td>\n",
       "    </tr>\n",
       "  </tbody>\n",
       "</table>\n",
       "</div>"
      ],
      "text/plain": [
       "               date           day        period      nswprice     nswdemand  \\\n",
       "count  36249.000000  36249.000000  36249.000000  36249.000000  36249.000000   \n",
       "mean       0.498293      4.006566      0.500560      0.057828      0.425939   \n",
       "std        0.339907      1.993551      0.294998      0.039052      0.163390   \n",
       "min        0.000000      1.000000      0.000000      0.000000      0.000000   \n",
       "25%        0.031945      2.000000      0.255319      0.035187      0.309729   \n",
       "50%        0.456263      4.000000      0.510638      0.048787      0.444213   \n",
       "75%        0.880492      6.000000      0.765957      0.074457      0.536745   \n",
       "max        1.000000      7.000000      1.000000      1.000000      0.980809   \n",
       "\n",
       "           vicprice     vicdemand      transfer         class  \n",
       "count  36249.000000  36249.000000  36249.000000  36249.000000  \n",
       "mean       0.003455      0.423024      0.500243      0.424536  \n",
       "std        0.010175      0.120600      0.153098      0.494279  \n",
       "min        0.000000      0.000000      0.000000      0.000000  \n",
       "25%        0.002283      0.373382      0.414912      0.000000  \n",
       "50%        0.003467      0.422915      0.414912      0.000000  \n",
       "75%        0.003467      0.468669      0.605263      1.000000  \n",
       "max        1.000000      1.000000      0.959211      1.000000  "
      ]
     },
     "execution_count": 3,
     "metadata": {},
     "output_type": "execute_result"
    }
   ],
   "source": [
    "# < ENTER YOUR CODE HERE > \n",
    "df.describe()"
   ]
  },
  {
   "cell_type": "markdown",
   "metadata": {
    "id": "e8Dbk1K-3iho"
   },
   "source": [
    "Make sure there are no missing values. It makes sense to check the balance of classes. Enter the proportion of elements of the class $1$."
   ]
  },
  {
   "cell_type": "code",
   "execution_count": 5,
   "metadata": {
    "id": "dyCm4K_F3xP0"
   },
   "outputs": [
    {
     "data": {
      "text/plain": [
       "date         0\n",
       "day          0\n",
       "period       0\n",
       "nswprice     0\n",
       "nswdemand    0\n",
       "vicprice     0\n",
       "vicdemand    0\n",
       "transfer     0\n",
       "class        0\n",
       "dtype: int64"
      ]
     },
     "execution_count": 5,
     "metadata": {},
     "output_type": "execute_result"
    }
   ],
   "source": [
    "# < ENTER YOUR CODE HERE > \n",
    "df.isnull().sum()"
   ]
  },
  {
   "cell_type": "code",
   "execution_count": 12,
   "metadata": {},
   "outputs": [
    {
     "data": {
      "text/plain": [
       "0.425"
      ]
     },
     "execution_count": 12,
     "metadata": {},
     "output_type": "execute_result"
    }
   ],
   "source": [
    "round(df['class'].value_counts(normalize=True)[1],3)"
   ]
  },
  {
   "cell_type": "markdown",
   "metadata": {
    "id": "9yAaZWOE4Ufo"
   },
   "source": [
    "Construct a correlation matrix. Identify the pair of most correlated features."
   ]
  },
  {
   "cell_type": "code",
   "execution_count": 16,
   "metadata": {
    "id": "TflVyF8U4a4d"
   },
   "outputs": [
    {
     "data": {
      "text/plain": [
       "<Axes: >"
      ]
     },
     "execution_count": 16,
     "metadata": {},
     "output_type": "execute_result"
    },
    {
     "data": {
      "image/png": "[encoded data removed]",
      "text/plain": [
       "<Figure size 1200x700 with 2 Axes>"
      ]
     },
     "metadata": {},
     "output_type": "display_data"
    }
   ],
   "source": [
    "# < ENTER YOUR CODE HERE > \n",
    "plt.figure(figsize=(12,7))\n",
    "sns.heatmap(df.corr(), annot=True, cmap='crest')"
   ]
  },
  {
   "cell_type": "code",
   "execution_count": 23,
   "metadata": {},
   "outputs": [
    {
     "data": {
      "text/plain": [
       "vicdemand  nswdemand    0.667174\n",
       "nswdemand  vicdemand    0.667174\n",
       "transfer   vicdemand    0.552870\n",
       "vicdemand  transfer     0.552870\n",
       "period     nswdemand    0.444579\n",
       "                          ...   \n",
       "           date         0.001577\n",
       "vicprice   day          0.001082\n",
       "day        vicprice     0.001082\n",
       "           period       0.000416\n",
       "period     day          0.000416\n",
       "Length: 72, dtype: float64"
      ]
     },
     "execution_count": 23,
     "metadata": {},
     "output_type": "execute_result"
    }
   ],
   "source": [
    "df.corr().abs().unstack().sort_values(ascending=False)[df.corr().abs().unstack().sort_values(ascending=False)<1]"
   ]
  },
  {
   "cell_type": "markdown",
   "metadata": {
    "id": "p86olWnORJrC"
   },
   "source": [
    "Construct histograms of the distributions of the features."
   ]
  },
  {
   "cell_type": "code",
   "execution_count": 26,
   "metadata": {},
   "outputs": [
    {
     "data": {
      "text/plain": [
       "array([[<Axes: title={'center': 'date'}>,\n",
       "        <Axes: title={'center': 'day'}>,\n",
       "        <Axes: title={'center': 'period'}>],\n",
       "       [<Axes: title={'center': 'nswprice'}>,\n",
       "        <Axes: title={'center': 'nswdemand'}>,\n",
       "        <Axes: title={'center': 'vicprice'}>],\n",
       "       [<Axes: title={'center': 'vicdemand'}>,\n",
       "        <Axes: title={'center': 'transfer'}>,\n",
       "        <Axes: title={'center': 'class'}>]], dtype=object)"
      ]
     },
     "execution_count": 26,
     "metadata": {},
     "output_type": "execute_result"
    },
    {
     "data": {
      "image/png": "[encoded data removed]",
      "text/plain": [
       "<Figure size 1500x1000 with 9 Axes>"
      ]
     },
     "metadata": {},
     "output_type": "display_data"
    }
   ],
   "source": [
    "df.hist(bins=20, figsize=(15,10))"
   ]
  },
  {
   "cell_type": "markdown",
   "metadata": {
    "id": "48Oaj77P6C3a"
   },
   "source": [
    "From the resulting illustrations, we can see that there is probably some periodicity in the data, as expected. Moreover, it seems that the missing values and outlier processing has already been done for us."
   ]
  },
  {
   "cell_type": "markdown",
   "metadata": {
    "id": "r9lr36io3K2H"
   },
   "source": [
    "Use <code>train_test_split</code> to split the resulting dataset into training and test samples with the parameters specified in your individual assignment."
   ]
  },
  {
   "cell_type": "code",
   "execution_count": 27,
   "metadata": {},
   "outputs": [],
   "source": [
    "from sklearn.model_selection import train_test_split"
   ]
  },
  {
   "cell_type": "code",
   "execution_count": 30,
   "metadata": {
    "id": "G50KT0CVOwKk"
   },
   "outputs": [],
   "source": [
    "# < ENTER YOUR CODE HERE > \n",
    "train_data, test_data = train_test_split(df, test_size=0.2, random_state=25)\n",
    "\n",
    "X_train = train_data.drop(columns = 'class')\n",
    "y_train = train_data['class']\n",
    "X_test = test_data.drop(columns = 'class')\n",
    "y_test = test_data['class']"
   ]
  },
  {
   "cell_type": "markdown",
   "metadata": {
    "id": "tEh9OYuWOwKp"
   },
   "source": [
    "# Random Forests Classifier"
   ]
  },
  {
   "cell_type": "markdown",
   "metadata": {
    "id": "L_QEkgd9AFO4"
   },
   "source": [
    "Train the <code>sklearn.ensemble.RandomForestClassifier</code> model on the training dataset with the parameters specified in your individual assignment."
   ]
  },
  {
   "cell_type": "code",
   "execution_count": 35,
   "metadata": {
    "id": "Y4WCECt8OwKq"
   },
   "outputs": [],
   "source": [
    "# < ENTER YOUR CODE HERE > \n",
    "from sklearn.ensemble import RandomForestClassifier\n",
    "\n",
    "model = RandomForestClassifier(random_state=25)\n",
    "model.fit(X_train, y_train)\n",
    "\n",
    "y_train_pred = model.predict(X_train)"
   ]
  },
  {
   "cell_type": "markdown",
   "metadata": {
    "id": "1Ci-_Ba4AlE9"
   },
   "source": [
    "Build the <code>classification_report</code> of the resulting model on **training dataset**. Enter the accuracy of the model on the **training dataset**."
   ]
  },
  {
   "cell_type": "code",
   "execution_count": 37,
   "metadata": {
    "id": "TBX0d57TCTSL"
   },
   "outputs": [
    {
     "data": {
      "text/plain": [
       "1.0"
      ]
     },
     "execution_count": 37,
     "metadata": {},
     "output_type": "execute_result"
    }
   ],
   "source": [
    "# < ENTER YOUR CODE HERE > \n",
    "from sklearn.metrics import accuracy_score\n",
    "\n",
    "round(accuracy_score(y_train, y_train_pred),3)"
   ]
  },
  {
   "cell_type": "markdown",
   "metadata": {
    "id": "0OlkNY98OwKs"
   },
   "source": [
    "We got overfitting. Well, once again, we can answer that decision trees are quite prone to overtraining."
   ]
  },
  {
   "cell_type": "markdown",
   "metadata": {
    "id": "cPfEnIs8OwKs"
   },
   "source": [
    "## Adding GridSearchCV to the Random Forest."
   ]
  },
  {
   "cell_type": "markdown",
   "metadata": {
    "id": "RyjHh8_vD2A-"
   },
   "source": [
    "Using the <code>sklearn.model_selection.GridSearchCV</code>, train <code>RandomForestClassifier</code> on training dataset with the parameters specified in your individual assignment."
   ]
  },
  {
   "cell_type": "code",
   "execution_count": 38,
   "metadata": {
    "id": "5UZ-3wuyOwKs"
   },
   "outputs": [
    {
     "name": "stdout",
     "output_type": "stream",
     "text": [
      "Fitting 3 folds for each of 36 candidates, totalling 108 fits\n",
      "[CV 1/3] END max_leaf_nodes=6, min_samples_leaf=1, n_estimators=100;, score=0.778 total time=   0.3s\n",
      "[CV 2/3] END max_leaf_nodes=6, min_samples_leaf=1, n_estimators=100;, score=0.767 total time=   0.2s\n",
      "[CV 3/3] END max_leaf_nodes=6, min_samples_leaf=1, n_estimators=100;, score=0.780 total time=   0.2s\n",
      "[CV 1/3] END max_leaf_nodes=6, min_samples_leaf=1, n_estimators=300;, score=0.777 total time=   0.5s\n",
      "[CV 2/3] END max_leaf_nodes=6, min_samples_leaf=1, n_estimators=300;, score=0.767 total time=   0.6s\n",
      "[CV 3/3] END max_leaf_nodes=6, min_samples_leaf=1, n_estimators=300;, score=0.779 total time=   0.5s\n",
      "[CV 1/3] END max_leaf_nodes=6, min_samples_leaf=1, n_estimators=500;, score=0.776 total time=   0.8s\n",
      "[CV 2/3] END max_leaf_nodes=6, min_samples_leaf=1, n_estimators=500;, score=0.767 total time=   0.8s\n",
      "[CV 3/3] END max_leaf_nodes=6, min_samples_leaf=1, n_estimators=500;, score=0.780 total time=   0.9s\n",
      "[CV 1/3] END max_leaf_nodes=6, min_samples_leaf=2, n_estimators=100;, score=0.778 total time=   0.2s\n",
      "[CV 2/3] END max_leaf_nodes=6, min_samples_leaf=2, n_estimators=100;, score=0.767 total time=   0.3s\n",
      "[CV 3/3] END max_leaf_nodes=6, min_samples_leaf=2, n_estimators=100;, score=0.780 total time=   0.2s\n",
      "[CV 1/3] END max_leaf_nodes=6, min_samples_leaf=2, n_estimators=300;, score=0.777 total time=   0.5s\n",
      "[CV 2/3] END max_leaf_nodes=6, min_samples_leaf=2, n_estimators=300;, score=0.767 total time=   0.5s\n",
      "[CV 3/3] END max_leaf_nodes=6, min_samples_leaf=2, n_estimators=300;, score=0.779 total time=   0.5s\n",
      "[CV 1/3] END max_leaf_nodes=6, min_samples_leaf=2, n_estimators=500;, score=0.776 total time=   0.8s\n",
      "[CV 2/3] END max_leaf_nodes=6, min_samples_leaf=2, n_estimators=500;, score=0.767 total time=   0.9s\n",
      "[CV 3/3] END max_leaf_nodes=6, min_samples_leaf=2, n_estimators=500;, score=0.780 total time=   0.9s\n",
      "[CV 1/3] END max_leaf_nodes=6, min_samples_leaf=3, n_estimators=100;, score=0.778 total time=   0.2s\n",
      "[CV 2/3] END max_leaf_nodes=6, min_samples_leaf=3, n_estimators=100;, score=0.767 total time=   0.2s\n",
      "[CV 3/3] END max_leaf_nodes=6, min_samples_leaf=3, n_estimators=100;, score=0.780 total time=   0.2s\n",
      "[CV 1/3] END max_leaf_nodes=6, min_samples_leaf=3, n_estimators=300;, score=0.777 total time=   0.5s\n",
      "[CV 2/3] END max_leaf_nodes=6, min_samples_leaf=3, n_estimators=300;, score=0.767 total time=   0.5s\n",
      "[CV 3/3] END max_leaf_nodes=6, min_samples_leaf=3, n_estimators=300;, score=0.779 total time=   0.5s\n",
      "[CV 1/3] END max_leaf_nodes=6, min_samples_leaf=3, n_estimators=500;, score=0.776 total time=   0.9s\n",
      "[CV 2/3] END max_leaf_nodes=6, min_samples_leaf=3, n_estimators=500;, score=0.767 total time=   0.9s\n",
      "[CV 3/3] END max_leaf_nodes=6, min_samples_leaf=3, n_estimators=500;, score=0.780 total time=   0.9s\n",
      "[CV 1/3] END max_leaf_nodes=7, min_samples_leaf=1, n_estimators=100;, score=0.783 total time=   0.2s\n",
      "[CV 2/3] END max_leaf_nodes=7, min_samples_leaf=1, n_estimators=100;, score=0.773 total time=   0.2s\n",
      "[CV 3/3] END max_leaf_nodes=7, min_samples_leaf=1, n_estimators=100;, score=0.784 total time=   0.2s\n",
      "[CV 1/3] END max_leaf_nodes=7, min_samples_leaf=1, n_estimators=300;, score=0.779 total time=   0.5s\n",
      "[CV 2/3] END max_leaf_nodes=7, min_samples_leaf=1, n_estimators=300;, score=0.771 total time=   0.5s\n",
      "[CV 3/3] END max_leaf_nodes=7, min_samples_leaf=1, n_estimators=300;, score=0.781 total time=   0.5s\n",
      "[CV 1/3] END max_leaf_nodes=7, min_samples_leaf=1, n_estimators=500;, score=0.779 total time=   0.9s\n",
      "[CV 2/3] END max_leaf_nodes=7, min_samples_leaf=1, n_estimators=500;, score=0.771 total time=   0.9s\n",
      "[CV 3/3] END max_leaf_nodes=7, min_samples_leaf=1, n_estimators=500;, score=0.782 total time=   0.9s\n",
      "[CV 1/3] END max_leaf_nodes=7, min_samples_leaf=2, n_estimators=100;, score=0.783 total time=   0.2s\n",
      "[CV 2/3] END max_leaf_nodes=7, min_samples_leaf=2, n_estimators=100;, score=0.773 total time=   0.2s\n",
      "[CV 3/3] END max_leaf_nodes=7, min_samples_leaf=2, n_estimators=100;, score=0.784 total time=   0.2s\n",
      "[CV 1/3] END max_leaf_nodes=7, min_samples_leaf=2, n_estimators=300;, score=0.779 total time=   0.5s\n",
      "[CV 2/3] END max_leaf_nodes=7, min_samples_leaf=2, n_estimators=300;, score=0.771 total time=   0.5s\n",
      "[CV 3/3] END max_leaf_nodes=7, min_samples_leaf=2, n_estimators=300;, score=0.781 total time=   0.6s\n",
      "[CV 1/3] END max_leaf_nodes=7, min_samples_leaf=2, n_estimators=500;, score=0.779 total time=   0.9s\n",
      "[CV 2/3] END max_leaf_nodes=7, min_samples_leaf=2, n_estimators=500;, score=0.771 total time=   0.9s\n",
      "[CV 3/3] END max_leaf_nodes=7, min_samples_leaf=2, n_estimators=500;, score=0.782 total time=   0.9s\n",
      "[CV 1/3] END max_leaf_nodes=7, min_samples_leaf=3, n_estimators=100;, score=0.783 total time=   0.2s\n",
      "[CV 2/3] END max_leaf_nodes=7, min_samples_leaf=3, n_estimators=100;, score=0.773 total time=   0.2s\n",
      "[CV 3/3] END max_leaf_nodes=7, min_samples_leaf=3, n_estimators=100;, score=0.784 total time=   0.2s\n",
      "[CV 1/3] END max_leaf_nodes=7, min_samples_leaf=3, n_estimators=300;, score=0.779 total time=   0.6s\n",
      "[CV 2/3] END max_leaf_nodes=7, min_samples_leaf=3, n_estimators=300;, score=0.771 total time=   0.5s\n",
      "[CV 3/3] END max_leaf_nodes=7, min_samples_leaf=3, n_estimators=300;, score=0.781 total time=   0.6s\n",
      "[CV 1/3] END max_leaf_nodes=7, min_samples_leaf=3, n_estimators=500;, score=0.779 total time=   0.9s\n",
      "[CV 2/3] END max_leaf_nodes=7, min_samples_leaf=3, n_estimators=500;, score=0.771 total time=   0.9s\n",
      "[CV 3/3] END max_leaf_nodes=7, min_samples_leaf=3, n_estimators=500;, score=0.782 total time=   0.9s\n",
      "[CV 1/3] END max_leaf_nodes=8, min_samples_leaf=1, n_estimators=100;, score=0.792 total time=   0.2s\n",
      "[CV 2/3] END max_leaf_nodes=8, min_samples_leaf=1, n_estimators=100;, score=0.778 total time=   0.2s\n",
      "[CV 3/3] END max_leaf_nodes=8, min_samples_leaf=1, n_estimators=100;, score=0.792 total time=   0.2s\n",
      "[CV 1/3] END max_leaf_nodes=8, min_samples_leaf=1, n_estimators=300;, score=0.788 total time=   0.6s\n",
      "[CV 2/3] END max_leaf_nodes=8, min_samples_leaf=1, n_estimators=300;, score=0.775 total time=   0.6s\n",
      "[CV 3/3] END max_leaf_nodes=8, min_samples_leaf=1, n_estimators=300;, score=0.787 total time=   0.6s\n",
      "[CV 1/3] END max_leaf_nodes=8, min_samples_leaf=1, n_estimators=500;, score=0.790 total time=   0.9s\n",
      "[CV 2/3] END max_leaf_nodes=8, min_samples_leaf=1, n_estimators=500;, score=0.776 total time=   0.9s\n",
      "[CV 3/3] END max_leaf_nodes=8, min_samples_leaf=1, n_estimators=500;, score=0.789 total time=   0.9s\n",
      "[CV 1/3] END max_leaf_nodes=8, min_samples_leaf=2, n_estimators=100;, score=0.792 total time=   0.2s\n",
      "[CV 2/3] END max_leaf_nodes=8, min_samples_leaf=2, n_estimators=100;, score=0.778 total time=   0.2s\n",
      "[CV 3/3] END max_leaf_nodes=8, min_samples_leaf=2, n_estimators=100;, score=0.792 total time=   0.2s\n",
      "[CV 1/3] END max_leaf_nodes=8, min_samples_leaf=2, n_estimators=300;, score=0.788 total time=   0.7s\n",
      "[CV 2/3] END max_leaf_nodes=8, min_samples_leaf=2, n_estimators=300;, score=0.775 total time=   0.6s\n",
      "[CV 3/3] END max_leaf_nodes=8, min_samples_leaf=2, n_estimators=300;, score=0.787 total time=   0.5s\n",
      "[CV 1/3] END max_leaf_nodes=8, min_samples_leaf=2, n_estimators=500;, score=0.790 total time=   0.9s\n",
      "[CV 2/3] END max_leaf_nodes=8, min_samples_leaf=2, n_estimators=500;, score=0.776 total time=   0.9s\n",
      "[CV 3/3] END max_leaf_nodes=8, min_samples_leaf=2, n_estimators=500;, score=0.789 total time=   0.9s\n",
      "[CV 1/3] END max_leaf_nodes=8, min_samples_leaf=3, n_estimators=100;, score=0.792 total time=   0.2s\n",
      "[CV 2/3] END max_leaf_nodes=8, min_samples_leaf=3, n_estimators=100;, score=0.778 total time=   0.2s\n",
      "[CV 3/3] END max_leaf_nodes=8, min_samples_leaf=3, n_estimators=100;, score=0.792 total time=   0.2s\n",
      "[CV 1/3] END max_leaf_nodes=8, min_samples_leaf=3, n_estimators=300;, score=0.788 total time=   0.5s\n",
      "[CV 2/3] END max_leaf_nodes=8, min_samples_leaf=3, n_estimators=300;, score=0.775 total time=   0.6s\n",
      "[CV 3/3] END max_leaf_nodes=8, min_samples_leaf=3, n_estimators=300;, score=0.787 total time=   0.6s\n",
      "[CV 1/3] END max_leaf_nodes=8, min_samples_leaf=3, n_estimators=500;, score=0.790 total time=   0.9s\n",
      "[CV 2/3] END max_leaf_nodes=8, min_samples_leaf=3, n_estimators=500;, score=0.776 total time=   0.9s\n",
      "[CV 3/3] END max_leaf_nodes=8, min_samples_leaf=3, n_estimators=500;, score=0.789 total time=   0.9s\n",
      "[CV 1/3] END max_leaf_nodes=9, min_samples_leaf=1, n_estimators=100;, score=0.795 total time=   0.2s\n",
      "[CV 2/3] END max_leaf_nodes=9, min_samples_leaf=1, n_estimators=100;, score=0.784 total time=   0.2s\n",
      "[CV 3/3] END max_leaf_nodes=9, min_samples_leaf=1, n_estimators=100;, score=0.792 total time=   0.2s\n",
      "[CV 1/3] END max_leaf_nodes=9, min_samples_leaf=1, n_estimators=300;, score=0.793 total time=   0.6s\n",
      "[CV 2/3] END max_leaf_nodes=9, min_samples_leaf=1, n_estimators=300;, score=0.778 total time=   0.6s\n",
      "[CV 3/3] END max_leaf_nodes=9, min_samples_leaf=1, n_estimators=300;, score=0.791 total time=   0.6s\n",
      "[CV 1/3] END max_leaf_nodes=9, min_samples_leaf=1, n_estimators=500;, score=0.793 total time=   0.9s\n",
      "[CV 2/3] END max_leaf_nodes=9, min_samples_leaf=1, n_estimators=500;, score=0.779 total time=   0.9s\n",
      "[CV 3/3] END max_leaf_nodes=9, min_samples_leaf=1, n_estimators=500;, score=0.792 total time=   0.9s\n",
      "[CV 1/3] END max_leaf_nodes=9, min_samples_leaf=2, n_estimators=100;, score=0.795 total time=   0.2s\n",
      "[CV 2/3] END max_leaf_nodes=9, min_samples_leaf=2, n_estimators=100;, score=0.784 total time=   0.2s\n",
      "[CV 3/3] END max_leaf_nodes=9, min_samples_leaf=2, n_estimators=100;, score=0.792 total time=   0.2s\n",
      "[CV 1/3] END max_leaf_nodes=9, min_samples_leaf=2, n_estimators=300;, score=0.793 total time=   0.6s\n",
      "[CV 2/3] END max_leaf_nodes=9, min_samples_leaf=2, n_estimators=300;, score=0.778 total time=   0.6s\n",
      "[CV 3/3] END max_leaf_nodes=9, min_samples_leaf=2, n_estimators=300;, score=0.791 total time=   0.6s\n",
      "[CV 1/3] END max_leaf_nodes=9, min_samples_leaf=2, n_estimators=500;, score=0.793 total time=   0.9s\n",
      "[CV 2/3] END max_leaf_nodes=9, min_samples_leaf=2, n_estimators=500;, score=0.779 total time=   0.9s\n",
      "[CV 3/3] END max_leaf_nodes=9, min_samples_leaf=2, n_estimators=500;, score=0.792 total time=   1.0s\n",
      "[CV 1/3] END max_leaf_nodes=9, min_samples_leaf=3, n_estimators=100;, score=0.795 total time=   0.2s\n",
      "[CV 2/3] END max_leaf_nodes=9, min_samples_leaf=3, n_estimators=100;, score=0.784 total time=   0.2s\n",
      "[CV 3/3] END max_leaf_nodes=9, min_samples_leaf=3, n_estimators=100;, score=0.792 total time=   0.2s\n",
      "[CV 1/3] END max_leaf_nodes=9, min_samples_leaf=3, n_estimators=300;, score=0.793 total time=   0.6s\n",
      "[CV 2/3] END max_leaf_nodes=9, min_samples_leaf=3, n_estimators=300;, score=0.778 total time=   0.6s\n",
      "[CV 3/3] END max_leaf_nodes=9, min_samples_leaf=3, n_estimators=300;, score=0.791 total time=   0.6s\n",
      "[CV 1/3] END max_leaf_nodes=9, min_samples_leaf=3, n_estimators=500;, score=0.793 total time=   0.9s\n",
      "[CV 2/3] END max_leaf_nodes=9, min_samples_leaf=3, n_estimators=500;, score=0.779 total time=   1.0s\n",
      "[CV 3/3] END max_leaf_nodes=9, min_samples_leaf=3, n_estimators=500;, score=0.792 total time=   1.0s\n"
     ]
    },
    {
     "data": {
      "text/html": [
       "<style>#sk-container-id-1 {color: black;}#sk-container-id-1 pre{padding: 0;}#sk-container-id-1 div.sk-toggleable {background-color: white;}#sk-container-id-1 label.sk-toggleable__label {cursor: pointer;display: block;width: 100%;margin-bottom: 0;padding: 0.3em;box-sizing: border-box;text-align: center;}#sk-container-id-1 label.sk-toggleable__label-arrow:before {content: \"▸\";float: left;margin-right: 0.25em;color: #696969;}#sk-container-id-1 label.sk-toggleable__label-arrow:hover:before {color: black;}#sk-container-id-1 div.sk-estimator:hover label.sk-toggleable__label-arrow:before {color: black;}#sk-container-id-1 div.sk-toggleable__content {max-height: 0;max-width: 0;overflow: hidden;text-align: left;background-color: #f0f8ff;}#sk-container-id-1 div.sk-toggleable__content pre {margin: 0.2em;color: black;border-radius: 0.25em;background-color: #f0f8ff;}#sk-container-id-1 input.sk-toggleable__control:checked~div.sk-toggleable__content {max-height: 200px;max-width: 100%;overflow: auto;}#sk-container-id-1 input.sk-toggleable__control:checked~label.sk-toggleable__label-arrow:before {content: \"▾\";}#sk-container-id-1 div.sk-estimator input.sk-toggleable__control:checked~label.sk-toggleable__label {background-color: #d4ebff;}#sk-container-id-1 div.sk-label input.sk-toggleable__control:checked~label.sk-toggleable__label {background-color: #d4ebff;}#sk-container-id-1 input.sk-hidden--visually {border: 0;clip: rect(1px 1px 1px 1px);clip: rect(1px, 1px, 1px, 1px);height: 1px;margin: -1px;overflow: hidden;padding: 0;position: absolute;width: 1px;}#sk-container-id-1 div.sk-estimator {font-family: monospace;background-color: #f0f8ff;border: 1px dotted black;border-radius: 0.25em;box-sizing: border-box;margin-bottom: 0.5em;}#sk-container-id-1 div.sk-estimator:hover {background-color: #d4ebff;}#sk-container-id-1 div.sk-parallel-item::after {content: \"\";width: 100%;border-bottom: 1px solid gray;flex-grow: 1;}#sk-container-id-1 div.sk-label:hover label.sk-toggleable__label {background-color: #d4ebff;}#sk-container-id-1 div.sk-serial::before {content: \"\";position: absolute;border-left: 1px solid gray;box-sizing: border-box;top: 0;bottom: 0;left: 50%;z-index: 0;}#sk-container-id-1 div.sk-serial {display: flex;flex-direction: column;align-items: center;background-color: white;padding-right: 0.2em;padding-left: 0.2em;position: relative;}#sk-container-id-1 div.sk-item {position: relative;z-index: 1;}#sk-container-id-1 div.sk-parallel {display: flex;align-items: stretch;justify-content: center;background-color: white;position: relative;}#sk-container-id-1 div.sk-item::before, #sk-container-id-1 div.sk-parallel-item::before {content: \"\";position: absolute;border-left: 1px solid gray;box-sizing: border-box;top: 0;bottom: 0;left: 50%;z-index: -1;}#sk-container-id-1 div.sk-parallel-item {display: flex;flex-direction: column;z-index: 1;position: relative;background-color: white;}#sk-container-id-1 div.sk-parallel-item:first-child::after {align-self: flex-end;width: 50%;}#sk-container-id-1 div.sk-parallel-item:last-child::after {align-self: flex-start;width: 50%;}#sk-container-id-1 div.sk-parallel-item:only-child::after {width: 0;}#sk-container-id-1 div.sk-dashed-wrapped {border: 1px dashed gray;margin: 0 0.4em 0.5em 0.4em;box-sizing: border-box;padding-bottom: 0.4em;background-color: white;}#sk-container-id-1 div.sk-label label {font-family: monospace;font-weight: bold;display: inline-block;line-height: 1.2em;}#sk-container-id-1 div.sk-label-container {text-align: center;}#sk-container-id-1 div.sk-container {/* jupyter's `normalize.less` sets `[hidden] { display: none; }` but bootstrap.min.css set `[hidden] { display: none !important; }` so we also need the `!important` here to be able to override the default hidden behavior on the sphinx rendered scikit-learn.org. See: https://github.com/scikit-learn/scikit-learn/issues/21755 */display: inline-block !important;position: relative;}#sk-container-id-1 div.sk-text-repr-fallback {display: none;}</style><div id=\"sk-container-id-1\" class=\"sk-top-container\"><div class=\"sk-text-repr-fallback\"><pre>GridSearchCV(cv=3,\n",
       "             estimator=RandomForestClassifier(bootstrap=False,\n",
       "                                              class_weight=&#x27;balanced&#x27;,\n",
       "                                              n_jobs=-1, random_state=25),\n",
       "             param_grid={&#x27;max_leaf_nodes&#x27;: [6, 7, 8, 9],\n",
       "                         &#x27;min_samples_leaf&#x27;: [1, 2, 3],\n",
       "                         &#x27;n_estimators&#x27;: [100, 300, 500]},\n",
       "             verbose=4)</pre><b>In a Jupyter environment, please rerun this cell to show the HTML representation or trust the notebook. <br />On GitHub, the HTML representation is unable to render, please try loading this page with nbviewer.org.</b></div><div class=\"sk-container\" hidden><div class=\"sk-item sk-dashed-wrapped\"><div class=\"sk-label-container\"><div class=\"sk-label sk-toggleable\"><input class=\"sk-toggleable__control sk-hidden--visually\" id=\"sk-estimator-id-1\" type=\"checkbox\" ><label for=\"sk-estimator-id-1\" class=\"sk-toggleable__label sk-toggleable__label-arrow\">GridSearchCV</label><div class=\"sk-toggleable__content\"><pre>GridSearchCV(cv=3,\n",
       "             estimator=RandomForestClassifier(bootstrap=False,\n",
       "                                              class_weight=&#x27;balanced&#x27;,\n",
       "                                              n_jobs=-1, random_state=25),\n",
       "             param_grid={&#x27;max_leaf_nodes&#x27;: [6, 7, 8, 9],\n",
       "                         &#x27;min_samples_leaf&#x27;: [1, 2, 3],\n",
       "                         &#x27;n_estimators&#x27;: [100, 300, 500]},\n",
       "             verbose=4)</pre></div></div></div><div class=\"sk-parallel\"><div class=\"sk-parallel-item\"><div class=\"sk-item\"><div class=\"sk-label-container\"><div class=\"sk-label sk-toggleable\"><input class=\"sk-toggleable__control sk-hidden--visually\" id=\"sk-estimator-id-2\" type=\"checkbox\" ><label for=\"sk-estimator-id-2\" class=\"sk-toggleable__label sk-toggleable__label-arrow\">estimator: RandomForestClassifier</label><div class=\"sk-toggleable__content\"><pre>RandomForestClassifier(bootstrap=False, class_weight=&#x27;balanced&#x27;, n_jobs=-1,\n",
       "                       random_state=25)</pre></div></div></div><div class=\"sk-serial\"><div class=\"sk-item\"><div class=\"sk-estimator sk-toggleable\"><input class=\"sk-toggleable__control sk-hidden--visually\" id=\"sk-estimator-id-3\" type=\"checkbox\" ><label for=\"sk-estimator-id-3\" class=\"sk-toggleable__label sk-toggleable__label-arrow\">RandomForestClassifier</label><div class=\"sk-toggleable__content\"><pre>RandomForestClassifier(bootstrap=False, class_weight=&#x27;balanced&#x27;, n_jobs=-1,\n",
       "                       random_state=25)</pre></div></div></div></div></div></div></div></div></div></div>"
      ],
      "text/plain": [
       "GridSearchCV(cv=3,\n",
       "             estimator=RandomForestClassifier(bootstrap=False,\n",
       "                                              class_weight='balanced',\n",
       "                                              n_jobs=-1, random_state=25),\n",
       "             param_grid={'max_leaf_nodes': [6, 7, 8, 9],\n",
       "                         'min_samples_leaf': [1, 2, 3],\n",
       "                         'n_estimators': [100, 300, 500]},\n",
       "             verbose=4)"
      ]
     },
     "execution_count": 38,
     "metadata": {},
     "output_type": "execute_result"
    }
   ],
   "source": [
    "# < ENTER YOUR CODE HERE > \n",
    "from sklearn.model_selection import GridSearchCV\n",
    "\n",
    "tuned_parameters = {'n_estimators': [100,300,500],\n",
    "  'max_leaf_nodes': list(range(6,10)),\n",
    "  'min_samples_leaf': [1,2,3]}\n",
    "\n",
    "cv = GridSearchCV(RandomForestClassifier(\n",
    "    bootstrap=False,\n",
    "    class_weight='balanced',\n",
    "    n_jobs=-1,\n",
    "    max_features='sqrt',\n",
    "    random_state=25),\n",
    "    tuned_parameters,\n",
    "    verbose=4,\n",
    "    cv=3)\n",
    "\n",
    "cv.fit(X_train, y_train)"
   ]
  },
  {
   "cell_type": "markdown",
   "metadata": {
    "id": "zZwCpNp3KS5y"
   },
   "source": [
    "Select the best model. We recommend using the field <code>best_estimator_</code> of the <code>grid_search</code> class object. We can find the parameters of the best model in the field <code>best_params_</code> of this object."
   ]
  },
  {
   "cell_type": "code",
   "execution_count": 61,
   "metadata": {
    "id": "k55iDQNWOwKt"
   },
   "outputs": [
    {
     "data": {
      "text/plain": [
       "{'max_leaf_nodes': 9, 'min_samples_leaf': 1, 'n_estimators': 100}"
      ]
     },
     "execution_count": 61,
     "metadata": {},
     "output_type": "execute_result"
    }
   ],
   "source": [
    "# < ENTER YOUR CODE HERE > \n",
    "cv.best_params_"
   ]
  },
  {
   "cell_type": "markdown",
   "metadata": {
    "id": "d3GLyploOwKt"
   },
   "source": [
    "Build the <code>classification_report</code> of the resulting model on the **training dataset**.\n",
    "Enter the model accuracy on the **training dataset**."
   ]
  },
  {
   "cell_type": "code",
   "execution_count": 66,
   "metadata": {
    "id": "R_LdKm8COwKt"
   },
   "outputs": [
    {
     "data": {
      "text/plain": [
       "0.794"
      ]
     },
     "execution_count": 66,
     "metadata": {},
     "output_type": "execute_result"
    }
   ],
   "source": [
    "# < ENTER YOUR CODE HERE > \n",
    "model = cv.best_estimator_\n",
    "model.fit(X_train, y_train)\n",
    "\n",
    "y_train_pred = model.predict(X_train)\n",
    "round(accuracy_score(y_train, y_train_pred),3)"
   ]
  },
  {
   "cell_type": "markdown",
   "metadata": {
    "id": "0uhEO7qrOwKu"
   },
   "source": [
    "Build the <code>classification_report</code> of the resulting model on the **test dataset**.\n",
    "Enter the model accuracy on the **test dataset**."
   ]
  },
  {
   "cell_type": "code",
   "execution_count": 65,
   "metadata": {
    "id": "xpfw580-OwKu"
   },
   "outputs": [
    {
     "data": {
      "text/plain": [
       "0.789"
      ]
     },
     "execution_count": 65,
     "metadata": {},
     "output_type": "execute_result"
    }
   ],
   "source": [
    "# < ENTER YOUR CODE HERE > \n",
    "y_test_pred = model.predict(X_test)\n",
    "round(accuracy_score(y_test, y_test_pred),3)"
   ]
  },
  {
   "cell_type": "markdown",
   "metadata": {
    "id": "3XQw9dQ_OwKv"
   },
   "source": [
    "Overfitting has been avoided, but accuracy seems low.\n",
    "\n",
    "One of the advantages of random forest is that you can look at the importance of features when classifying (inverse problem). Importance values can be found in the field <code>feature_importances_</code> of the model. Identify the name of the most important feature of the model."
   ]
  },
  {
   "cell_type": "code",
   "execution_count": 45,
   "metadata": {
    "id": "-5Auo3oaOwKv"
   },
   "outputs": [
    {
     "data": {
      "text/html": [
       "<div>\n",
       "<style scoped>\n",
       "    .dataframe tbody tr th:only-of-type {\n",
       "        vertical-align: middle;\n",
       "    }\n",
       "\n",
       "    .dataframe tbody tr th {\n",
       "        vertical-align: top;\n",
       "    }\n",
       "\n",
       "    .dataframe thead th {\n",
       "        text-align: right;\n",
       "    }\n",
       "</style>\n",
       "<table border=\"1\" class=\"dataframe\">\n",
       "  <thead>\n",
       "    <tr style=\"text-align: right;\">\n",
       "      <th></th>\n",
       "      <th>Feature</th>\n",
       "      <th>Importance</th>\n",
       "    </tr>\n",
       "  </thead>\n",
       "  <tbody>\n",
       "    <tr>\n",
       "      <th>3</th>\n",
       "      <td>nswprice</td>\n",
       "      <td>0.466512</td>\n",
       "    </tr>\n",
       "    <tr>\n",
       "      <th>5</th>\n",
       "      <td>vicprice</td>\n",
       "      <td>0.202012</td>\n",
       "    </tr>\n",
       "    <tr>\n",
       "      <th>4</th>\n",
       "      <td>nswdemand</td>\n",
       "      <td>0.128985</td>\n",
       "    </tr>\n",
       "    <tr>\n",
       "      <th>2</th>\n",
       "      <td>period</td>\n",
       "      <td>0.088059</td>\n",
       "    </tr>\n",
       "    <tr>\n",
       "      <th>0</th>\n",
       "      <td>date</td>\n",
       "      <td>0.057456</td>\n",
       "    </tr>\n",
       "    <tr>\n",
       "      <th>6</th>\n",
       "      <td>vicdemand</td>\n",
       "      <td>0.030493</td>\n",
       "    </tr>\n",
       "    <tr>\n",
       "      <th>1</th>\n",
       "      <td>day</td>\n",
       "      <td>0.017347</td>\n",
       "    </tr>\n",
       "    <tr>\n",
       "      <th>7</th>\n",
       "      <td>transfer</td>\n",
       "      <td>0.009137</td>\n",
       "    </tr>\n",
       "  </tbody>\n",
       "</table>\n",
       "</div>"
      ],
      "text/plain": [
       "     Feature  Importance\n",
       "3   nswprice    0.466512\n",
       "5   vicprice    0.202012\n",
       "4  nswdemand    0.128985\n",
       "2     period    0.088059\n",
       "0       date    0.057456\n",
       "6  vicdemand    0.030493\n",
       "1        day    0.017347\n",
       "7   transfer    0.009137"
      ]
     },
     "execution_count": 45,
     "metadata": {},
     "output_type": "execute_result"
    }
   ],
   "source": [
    "# < ENTER YOUR CODE HERE > \n",
    "model.feature_importances_\n",
    "\n",
    "feature_importance_df = pd.DataFrame({'Feature': X_train.columns, 'Importance': model.feature_importances_})\n",
    "feature_importance_df = feature_importance_df.sort_values(by='Importance', ascending=False)\n",
    "feature_importance_df "
   ]
  },
  {
   "cell_type": "markdown",
   "metadata": {
    "id": "QcUnr6t-OwKw"
   },
   "source": [
    "Let's try to improve the results by using other types of ensembles."
   ]
  },
  {
   "cell_type": "markdown",
   "metadata": {
    "id": "HVu9rFLOOwKw"
   },
   "source": [
    "# Voting Classifier"
   ]
  },
  {
   "cell_type": "markdown",
   "metadata": {
    "id": "kbojfuNbOwKx"
   },
   "source": [
    "Trains all models given as input and predicts the final result either by the greater number of identical answers that the models gave (hard), or calculates the probability of assigning objects to classes across all models and takes argmax."
   ]
  },
  {
   "cell_type": "markdown",
   "metadata": {
    "id": "o3d4ywmw1LyT"
   },
   "source": [
    "Use an <code>sklearn.ensemble.VotingClassifier</code> object with the parameter <code>voting='hard'</code>. Use classifiers with the appropriate parameters specified in your individual assignment as base algorithms. Train the model on the training dataset."
   ]
  },
  {
   "cell_type": "code",
   "execution_count": 46,
   "metadata": {
    "id": "1DAjKsI9OwKy"
   },
   "outputs": [
    {
     "data": {
      "text/html": [
       "<style>#sk-container-id-3 {color: black;}#sk-container-id-3 pre{padding: 0;}#sk-container-id-3 div.sk-toggleable {background-color: white;}#sk-container-id-3 label.sk-toggleable__label {cursor: pointer;display: block;width: 100%;margin-bottom: 0;padding: 0.3em;box-sizing: border-box;text-align: center;}#sk-container-id-3 label.sk-toggleable__label-arrow:before {content: \"▸\";float: left;margin-right: 0.25em;color: #696969;}#sk-container-id-3 label.sk-toggleable__label-arrow:hover:before {color: black;}#sk-container-id-3 div.sk-estimator:hover label.sk-toggleable__label-arrow:before {color: black;}#sk-container-id-3 div.sk-toggleable__content {max-height: 0;max-width: 0;overflow: hidden;text-align: left;background-color: #f0f8ff;}#sk-container-id-3 div.sk-toggleable__content pre {margin: 0.2em;color: black;border-radius: 0.25em;background-color: #f0f8ff;}#sk-container-id-3 input.sk-toggleable__control:checked~div.sk-toggleable__content {max-height: 200px;max-width: 100%;overflow: auto;}#sk-container-id-3 input.sk-toggleable__control:checked~label.sk-toggleable__label-arrow:before {content: \"▾\";}#sk-container-id-3 div.sk-estimator input.sk-toggleable__control:checked~label.sk-toggleable__label {background-color: #d4ebff;}#sk-container-id-3 div.sk-label input.sk-toggleable__control:checked~label.sk-toggleable__label {background-color: #d4ebff;}#sk-container-id-3 input.sk-hidden--visually {border: 0;clip: rect(1px 1px 1px 1px);clip: rect(1px, 1px, 1px, 1px);height: 1px;margin: -1px;overflow: hidden;padding: 0;position: absolute;width: 1px;}#sk-container-id-3 div.sk-estimator {font-family: monospace;background-color: #f0f8ff;border: 1px dotted black;border-radius: 0.25em;box-sizing: border-box;margin-bottom: 0.5em;}#sk-container-id-3 div.sk-estimator:hover {background-color: #d4ebff;}#sk-container-id-3 div.sk-parallel-item::after {content: \"\";width: 100%;border-bottom: 1px solid gray;flex-grow: 1;}#sk-container-id-3 div.sk-label:hover label.sk-toggleable__label {background-color: #d4ebff;}#sk-container-id-3 div.sk-serial::before {content: \"\";position: absolute;border-left: 1px solid gray;box-sizing: border-box;top: 0;bottom: 0;left: 50%;z-index: 0;}#sk-container-id-3 div.sk-serial {display: flex;flex-direction: column;align-items: center;background-color: white;padding-right: 0.2em;padding-left: 0.2em;position: relative;}#sk-container-id-3 div.sk-item {position: relative;z-index: 1;}#sk-container-id-3 div.sk-parallel {display: flex;align-items: stretch;justify-content: center;background-color: white;position: relative;}#sk-container-id-3 div.sk-item::before, #sk-container-id-3 div.sk-parallel-item::before {content: \"\";position: absolute;border-left: 1px solid gray;box-sizing: border-box;top: 0;bottom: 0;left: 50%;z-index: -1;}#sk-container-id-3 div.sk-parallel-item {display: flex;flex-direction: column;z-index: 1;position: relative;background-color: white;}#sk-container-id-3 div.sk-parallel-item:first-child::after {align-self: flex-end;width: 50%;}#sk-container-id-3 div.sk-parallel-item:last-child::after {align-self: flex-start;width: 50%;}#sk-container-id-3 div.sk-parallel-item:only-child::after {width: 0;}#sk-container-id-3 div.sk-dashed-wrapped {border: 1px dashed gray;margin: 0 0.4em 0.5em 0.4em;box-sizing: border-box;padding-bottom: 0.4em;background-color: white;}#sk-container-id-3 div.sk-label label {font-family: monospace;font-weight: bold;display: inline-block;line-height: 1.2em;}#sk-container-id-3 div.sk-label-container {text-align: center;}#sk-container-id-3 div.sk-container {/* jupyter's `normalize.less` sets `[hidden] { display: none; }` but bootstrap.min.css set `[hidden] { display: none !important; }` so we also need the `!important` here to be able to override the default hidden behavior on the sphinx rendered scikit-learn.org. See: https://github.com/scikit-learn/scikit-learn/issues/21755 */display: inline-block !important;position: relative;}#sk-container-id-3 div.sk-text-repr-fallback {display: none;}</style><div id=\"sk-container-id-3\" class=\"sk-top-container\"><div class=\"sk-text-repr-fallback\"><pre>VotingClassifier(estimators=[(&#x27;log_reg&#x27;,\n",
       "                              LogisticRegression(random_state=25,\n",
       "                                                 solver=&#x27;liblinear&#x27;)),\n",
       "                             (&#x27;svc&#x27;, SVC(random_state=25)),\n",
       "                             (&#x27;sgd&#x27;, SGDClassifier(random_state=25))])</pre><b>In a Jupyter environment, please rerun this cell to show the HTML representation or trust the notebook. <br />On GitHub, the HTML representation is unable to render, please try loading this page with nbviewer.org.</b></div><div class=\"sk-container\" hidden><div class=\"sk-item sk-dashed-wrapped\"><div class=\"sk-label-container\"><div class=\"sk-label sk-toggleable\"><input class=\"sk-toggleable__control sk-hidden--visually\" id=\"sk-estimator-id-5\" type=\"checkbox\" ><label for=\"sk-estimator-id-5\" class=\"sk-toggleable__label sk-toggleable__label-arrow\">VotingClassifier</label><div class=\"sk-toggleable__content\"><pre>VotingClassifier(estimators=[(&#x27;log_reg&#x27;,\n",
       "                              LogisticRegression(random_state=25,\n",
       "                                                 solver=&#x27;liblinear&#x27;)),\n",
       "                             (&#x27;svc&#x27;, SVC(random_state=25)),\n",
       "                             (&#x27;sgd&#x27;, SGDClassifier(random_state=25))])</pre></div></div></div><div class=\"sk-parallel\"><div class=\"sk-parallel-item\"><div class=\"sk-item\"><div class=\"sk-label-container\"><div class=\"sk-label sk-toggleable\"><label>log_reg</label></div></div><div class=\"sk-serial\"><div class=\"sk-item\"><div class=\"sk-estimator sk-toggleable\"><input class=\"sk-toggleable__control sk-hidden--visually\" id=\"sk-estimator-id-6\" type=\"checkbox\" ><label for=\"sk-estimator-id-6\" class=\"sk-toggleable__label sk-toggleable__label-arrow\">LogisticRegression</label><div class=\"sk-toggleable__content\"><pre>LogisticRegression(random_state=25, solver=&#x27;liblinear&#x27;)</pre></div></div></div></div></div></div><div class=\"sk-parallel-item\"><div class=\"sk-item\"><div class=\"sk-label-container\"><div class=\"sk-label sk-toggleable\"><label>svc</label></div></div><div class=\"sk-serial\"><div class=\"sk-item\"><div class=\"sk-estimator sk-toggleable\"><input class=\"sk-toggleable__control sk-hidden--visually\" id=\"sk-estimator-id-7\" type=\"checkbox\" ><label for=\"sk-estimator-id-7\" class=\"sk-toggleable__label sk-toggleable__label-arrow\">SVC</label><div class=\"sk-toggleable__content\"><pre>SVC(random_state=25)</pre></div></div></div></div></div></div><div class=\"sk-parallel-item\"><div class=\"sk-item\"><div class=\"sk-label-container\"><div class=\"sk-label sk-toggleable\"><label>sgd</label></div></div><div class=\"sk-serial\"><div class=\"sk-item\"><div class=\"sk-estimator sk-toggleable\"><input class=\"sk-toggleable__control sk-hidden--visually\" id=\"sk-estimator-id-8\" type=\"checkbox\" ><label for=\"sk-estimator-id-8\" class=\"sk-toggleable__label sk-toggleable__label-arrow\">SGDClassifier</label><div class=\"sk-toggleable__content\"><pre>SGDClassifier(random_state=25)</pre></div></div></div></div></div></div></div></div></div></div>"
      ],
      "text/plain": [
       "VotingClassifier(estimators=[('log_reg',\n",
       "                              LogisticRegression(random_state=25,\n",
       "                                                 solver='liblinear')),\n",
       "                             ('svc', SVC(random_state=25)),\n",
       "                             ('sgd', SGDClassifier(random_state=25))])"
      ]
     },
     "execution_count": 46,
     "metadata": {},
     "output_type": "execute_result"
    }
   ],
   "source": [
    "# < ENTER YOUR CODE HERE > \n",
    "from sklearn.linear_model import LogisticRegression\n",
    "from sklearn.svm import SVC\n",
    "from sklearn.linear_model import SGDClassifier\n",
    "\n",
    "from sklearn.ensemble import VotingClassifier\n",
    "\n",
    "model_log = LogisticRegression(solver='liblinear', random_state=25)\n",
    "model_svm = SVC(random_state=25)\n",
    "model_sgd = SGDClassifier(random_state=25)\n",
    "\n",
    "vot = VotingClassifier(\n",
    "\n",
    "    estimators=[('log_reg', model_log),\n",
    "                ('svc', model_svm),\n",
    "                ('sgd', model_sgd)],\n",
    "                voting = 'hard'\n",
    ")\n",
    "\n",
    "vot.fit(X_train, y_train)"
   ]
  },
  {
   "cell_type": "markdown",
   "metadata": {
    "id": "J_39w5oz2fKJ"
   },
   "source": [
    "Enter the model accuracy on the **training dataset**."
   ]
  },
  {
   "cell_type": "code",
   "execution_count": 47,
   "metadata": {
    "id": "C30hbtqHOwK0"
   },
   "outputs": [
    {
     "data": {
      "text/plain": [
       "0.753"
      ]
     },
     "execution_count": 47,
     "metadata": {},
     "output_type": "execute_result"
    }
   ],
   "source": [
    "# < ENTER YOUR CODE HERE > \n",
    "y_train_pred = vot.predict(X_train)\n",
    "accuracy_score(y_train, y_train_pred)"
   ]
  },
  {
   "cell_type": "markdown",
   "metadata": {
    "id": "A_N2EDoZ2oOZ"
   },
   "source": [
    "Enter the model accuracy on the **test dataset**."
   ]
  },
  {
   "cell_type": "code",
   "execution_count": 48,
   "metadata": {
    "id": "AR1KVgWyOwK0"
   },
   "outputs": [
    {
     "data": {
      "text/plain": [
       "0.75"
      ]
     },
     "execution_count": 48,
     "metadata": {},
     "output_type": "execute_result"
    }
   ],
   "source": [
    "# < ENTER YOUR CODE HERE > \n",
    "y_test_pred = vot.predict(X_test)\n",
    "round(accuracy_score(y_test, y_test_pred),3)"
   ]
  },
  {
   "cell_type": "markdown",
   "metadata": {
    "id": "Ws7He2W9OwK1"
   },
   "source": [
    "# Bagging Classifier"
   ]
  },
  {
   "cell_type": "markdown",
   "metadata": {
    "id": "-YsVZtnuOwK1"
   },
   "source": [
    "Creates multiple objects of the same class (multiple models) and trains them on non-overlapping subsets of the training dataset, and further averages the predictions."
   ]
  },
  {
   "cell_type": "markdown",
   "metadata": {
    "id": "doGMIkccPlk0"
   },
   "source": [
    "Based on <code>sklearn.ensemble.BaggingClassifier</code>, using <code>DecisionTreeClassifier</code> train the model on the training dataset with the parameters specified in your individual assignment."
   ]
  },
  {
   "cell_type": "code",
   "execution_count": 49,
   "metadata": {
    "id": "dxzRPukwOwK1"
   },
   "outputs": [
    {
     "data": {
      "text/html": [
       "<style>#sk-container-id-4 {color: black;}#sk-container-id-4 pre{padding: 0;}#sk-container-id-4 div.sk-toggleable {background-color: white;}#sk-container-id-4 label.sk-toggleable__label {cursor: pointer;display: block;width: 100%;margin-bottom: 0;padding: 0.3em;box-sizing: border-box;text-align: center;}#sk-container-id-4 label.sk-toggleable__label-arrow:before {content: \"▸\";float: left;margin-right: 0.25em;color: #696969;}#sk-container-id-4 label.sk-toggleable__label-arrow:hover:before {color: black;}#sk-container-id-4 div.sk-estimator:hover label.sk-toggleable__label-arrow:before {color: black;}#sk-container-id-4 div.sk-toggleable__content {max-height: 0;max-width: 0;overflow: hidden;text-align: left;background-color: #f0f8ff;}#sk-container-id-4 div.sk-toggleable__content pre {margin: 0.2em;color: black;border-radius: 0.25em;background-color: #f0f8ff;}#sk-container-id-4 input.sk-toggleable__control:checked~div.sk-toggleable__content {max-height: 200px;max-width: 100%;overflow: auto;}#sk-container-id-4 input.sk-toggleable__control:checked~label.sk-toggleable__label-arrow:before {content: \"▾\";}#sk-container-id-4 div.sk-estimator input.sk-toggleable__control:checked~label.sk-toggleable__label {background-color: #d4ebff;}#sk-container-id-4 div.sk-label input.sk-toggleable__control:checked~label.sk-toggleable__label {background-color: #d4ebff;}#sk-container-id-4 input.sk-hidden--visually {border: 0;clip: rect(1px 1px 1px 1px);clip: rect(1px, 1px, 1px, 1px);height: 1px;margin: -1px;overflow: hidden;padding: 0;position: absolute;width: 1px;}#sk-container-id-4 div.sk-estimator {font-family: monospace;background-color: #f0f8ff;border: 1px dotted black;border-radius: 0.25em;box-sizing: border-box;margin-bottom: 0.5em;}#sk-container-id-4 div.sk-estimator:hover {background-color: #d4ebff;}#sk-container-id-4 div.sk-parallel-item::after {content: \"\";width: 100%;border-bottom: 1px solid gray;flex-grow: 1;}#sk-container-id-4 div.sk-label:hover label.sk-toggleable__label {background-color: #d4ebff;}#sk-container-id-4 div.sk-serial::before {content: \"\";position: absolute;border-left: 1px solid gray;box-sizing: border-box;top: 0;bottom: 0;left: 50%;z-index: 0;}#sk-container-id-4 div.sk-serial {display: flex;flex-direction: column;align-items: center;background-color: white;padding-right: 0.2em;padding-left: 0.2em;position: relative;}#sk-container-id-4 div.sk-item {position: relative;z-index: 1;}#sk-container-id-4 div.sk-parallel {display: flex;align-items: stretch;justify-content: center;background-color: white;position: relative;}#sk-container-id-4 div.sk-item::before, #sk-container-id-4 div.sk-parallel-item::before {content: \"\";position: absolute;border-left: 1px solid gray;box-sizing: border-box;top: 0;bottom: 0;left: 50%;z-index: -1;}#sk-container-id-4 div.sk-parallel-item {display: flex;flex-direction: column;z-index: 1;position: relative;background-color: white;}#sk-container-id-4 div.sk-parallel-item:first-child::after {align-self: flex-end;width: 50%;}#sk-container-id-4 div.sk-parallel-item:last-child::after {align-self: flex-start;width: 50%;}#sk-container-id-4 div.sk-parallel-item:only-child::after {width: 0;}#sk-container-id-4 div.sk-dashed-wrapped {border: 1px dashed gray;margin: 0 0.4em 0.5em 0.4em;box-sizing: border-box;padding-bottom: 0.4em;background-color: white;}#sk-container-id-4 div.sk-label label {font-family: monospace;font-weight: bold;display: inline-block;line-height: 1.2em;}#sk-container-id-4 div.sk-label-container {text-align: center;}#sk-container-id-4 div.sk-container {/* jupyter's `normalize.less` sets `[hidden] { display: none; }` but bootstrap.min.css set `[hidden] { display: none !important; }` so we also need the `!important` here to be able to override the default hidden behavior on the sphinx rendered scikit-learn.org. See: https://github.com/scikit-learn/scikit-learn/issues/21755 */display: inline-block !important;position: relative;}#sk-container-id-4 div.sk-text-repr-fallback {display: none;}</style><div id=\"sk-container-id-4\" class=\"sk-top-container\"><div class=\"sk-text-repr-fallback\"><pre>BaggingClassifier(bootstrap=False,\n",
       "                  estimator=DecisionTreeClassifier(class_weight=&#x27;balanced&#x27;),\n",
       "                  max_features=0.5, max_samples=0.5, random_state=25)</pre><b>In a Jupyter environment, please rerun this cell to show the HTML representation or trust the notebook. <br />On GitHub, the HTML representation is unable to render, please try loading this page with nbviewer.org.</b></div><div class=\"sk-container\" hidden><div class=\"sk-item sk-dashed-wrapped\"><div class=\"sk-label-container\"><div class=\"sk-label sk-toggleable\"><input class=\"sk-toggleable__control sk-hidden--visually\" id=\"sk-estimator-id-9\" type=\"checkbox\" ><label for=\"sk-estimator-id-9\" class=\"sk-toggleable__label sk-toggleable__label-arrow\">BaggingClassifier</label><div class=\"sk-toggleable__content\"><pre>BaggingClassifier(bootstrap=False,\n",
       "                  estimator=DecisionTreeClassifier(class_weight=&#x27;balanced&#x27;),\n",
       "                  max_features=0.5, max_samples=0.5, random_state=25)</pre></div></div></div><div class=\"sk-parallel\"><div class=\"sk-parallel-item\"><div class=\"sk-item\"><div class=\"sk-label-container\"><div class=\"sk-label sk-toggleable\"><input class=\"sk-toggleable__control sk-hidden--visually\" id=\"sk-estimator-id-10\" type=\"checkbox\" ><label for=\"sk-estimator-id-10\" class=\"sk-toggleable__label sk-toggleable__label-arrow\">estimator: DecisionTreeClassifier</label><div class=\"sk-toggleable__content\"><pre>DecisionTreeClassifier(class_weight=&#x27;balanced&#x27;)</pre></div></div></div><div class=\"sk-serial\"><div class=\"sk-item\"><div class=\"sk-estimator sk-toggleable\"><input class=\"sk-toggleable__control sk-hidden--visually\" id=\"sk-estimator-id-11\" type=\"checkbox\" ><label for=\"sk-estimator-id-11\" class=\"sk-toggleable__label sk-toggleable__label-arrow\">DecisionTreeClassifier</label><div class=\"sk-toggleable__content\"><pre>DecisionTreeClassifier(class_weight=&#x27;balanced&#x27;)</pre></div></div></div></div></div></div></div></div></div></div>"
      ],
      "text/plain": [
       "BaggingClassifier(bootstrap=False,\n",
       "                  estimator=DecisionTreeClassifier(class_weight='balanced'),\n",
       "                  max_features=0.5, max_samples=0.5, random_state=25)"
      ]
     },
     "execution_count": 49,
     "metadata": {},
     "output_type": "execute_result"
    }
   ],
   "source": [
    "# < ENTER YOUR CODE HERE > \n",
    "from sklearn.ensemble import BaggingClassifier\n",
    "from sklearn.tree import DecisionTreeClassifier\n",
    "\n",
    "bag = BaggingClassifier(\n",
    "    DecisionTreeClassifier(class_weight='balanced'),\n",
    "    max_samples=0.5, \n",
    "    max_features=0.5,\n",
    "    bootstrap=False,\n",
    "    random_state=25)\n",
    "\n",
    "bag.fit(X_train, y_train)"
   ]
  },
  {
   "cell_type": "markdown",
   "metadata": {
    "id": "JLZKP6o2QXX7"
   },
   "source": [
    "Enter the model accuracy on the **training dataset**."
   ]
  },
  {
   "cell_type": "code",
   "execution_count": 50,
   "metadata": {
    "id": "jLdkYxo4OwK2"
   },
   "outputs": [
    {
     "data": {
      "text/plain": [
       "0.9802406979551019"
      ]
     },
     "execution_count": 50,
     "metadata": {},
     "output_type": "execute_result"
    }
   ],
   "source": [
    "# < ENTER YOUR CODE HERE > \n",
    "y_train_pred = bag.predict(X_train)\n",
    "accuracy_score(y_train, y_train_pred)"
   ]
  },
  {
   "cell_type": "markdown",
   "metadata": {
    "id": "n_ffcNRAQdYN"
   },
   "source": [
    "Enter the model accuracy on the **test dataset**."
   ]
  },
  {
   "cell_type": "code",
   "execution_count": 51,
   "metadata": {
    "id": "hIhBFyh2OwK2"
   },
   "outputs": [
    {
     "data": {
      "text/plain": [
       "0.846"
      ]
     },
     "execution_count": 51,
     "metadata": {},
     "output_type": "execute_result"
    }
   ],
   "source": [
    "# < ENTER YOUR CODE HERE > \n",
    "y_test_pred = bag.predict(X_test)\n",
    "round(accuracy_score(y_test, y_test_pred),3)"
   ]
  },
  {
   "cell_type": "markdown",
   "metadata": {
    "id": "Ls9MVZA_OwK3"
   },
   "source": [
    "# Gradient Boosting Classifier"
   ]
  },
  {
   "cell_type": "markdown",
   "metadata": {
    "id": "pgfdAw9DOwK3"
   },
   "source": [
    "Gradient boosting works like this: several objects of a class (several models) are created, they are chained so that each next one tries to correct the errors of the previous one. Prone to overlearning.\n",
    "\n",
    "Train a model based on <code>sklearn.ensemble.GradientBoostingClassifier</code> on training dataset with the parameters specified in your individual assignment."
   ]
  },
  {
   "cell_type": "code",
   "execution_count": 52,
   "metadata": {
    "id": "V0vooqAZOwK4"
   },
   "outputs": [
    {
     "data": {
      "text/html": [
       "<style>#sk-container-id-5 {color: black;}#sk-container-id-5 pre{padding: 0;}#sk-container-id-5 div.sk-toggleable {background-color: white;}#sk-container-id-5 label.sk-toggleable__label {cursor: pointer;display: block;width: 100%;margin-bottom: 0;padding: 0.3em;box-sizing: border-box;text-align: center;}#sk-container-id-5 label.sk-toggleable__label-arrow:before {content: \"▸\";float: left;margin-right: 0.25em;color: #696969;}#sk-container-id-5 label.sk-toggleable__label-arrow:hover:before {color: black;}#sk-container-id-5 div.sk-estimator:hover label.sk-toggleable__label-arrow:before {color: black;}#sk-container-id-5 div.sk-toggleable__content {max-height: 0;max-width: 0;overflow: hidden;text-align: left;background-color: #f0f8ff;}#sk-container-id-5 div.sk-toggleable__content pre {margin: 0.2em;color: black;border-radius: 0.25em;background-color: #f0f8ff;}#sk-container-id-5 input.sk-toggleable__control:checked~div.sk-toggleable__content {max-height: 200px;max-width: 100%;overflow: auto;}#sk-container-id-5 input.sk-toggleable__control:checked~label.sk-toggleable__label-arrow:before {content: \"▾\";}#sk-container-id-5 div.sk-estimator input.sk-toggleable__control:checked~label.sk-toggleable__label {background-color: #d4ebff;}#sk-container-id-5 div.sk-label input.sk-toggleable__control:checked~label.sk-toggleable__label {background-color: #d4ebff;}#sk-container-id-5 input.sk-hidden--visually {border: 0;clip: rect(1px 1px 1px 1px);clip: rect(1px, 1px, 1px, 1px);height: 1px;margin: -1px;overflow: hidden;padding: 0;position: absolute;width: 1px;}#sk-container-id-5 div.sk-estimator {font-family: monospace;background-color: #f0f8ff;border: 1px dotted black;border-radius: 0.25em;box-sizing: border-box;margin-bottom: 0.5em;}#sk-container-id-5 div.sk-estimator:hover {background-color: #d4ebff;}#sk-container-id-5 div.sk-parallel-item::after {content: \"\";width: 100%;border-bottom: 1px solid gray;flex-grow: 1;}#sk-container-id-5 div.sk-label:hover label.sk-toggleable__label {background-color: #d4ebff;}#sk-container-id-5 div.sk-serial::before {content: \"\";position: absolute;border-left: 1px solid gray;box-sizing: border-box;top: 0;bottom: 0;left: 50%;z-index: 0;}#sk-container-id-5 div.sk-serial {display: flex;flex-direction: column;align-items: center;background-color: white;padding-right: 0.2em;padding-left: 0.2em;position: relative;}#sk-container-id-5 div.sk-item {position: relative;z-index: 1;}#sk-container-id-5 div.sk-parallel {display: flex;align-items: stretch;justify-content: center;background-color: white;position: relative;}#sk-container-id-5 div.sk-item::before, #sk-container-id-5 div.sk-parallel-item::before {content: \"\";position: absolute;border-left: 1px solid gray;box-sizing: border-box;top: 0;bottom: 0;left: 50%;z-index: -1;}#sk-container-id-5 div.sk-parallel-item {display: flex;flex-direction: column;z-index: 1;position: relative;background-color: white;}#sk-container-id-5 div.sk-parallel-item:first-child::after {align-self: flex-end;width: 50%;}#sk-container-id-5 div.sk-parallel-item:last-child::after {align-self: flex-start;width: 50%;}#sk-container-id-5 div.sk-parallel-item:only-child::after {width: 0;}#sk-container-id-5 div.sk-dashed-wrapped {border: 1px dashed gray;margin: 0 0.4em 0.5em 0.4em;box-sizing: border-box;padding-bottom: 0.4em;background-color: white;}#sk-container-id-5 div.sk-label label {font-family: monospace;font-weight: bold;display: inline-block;line-height: 1.2em;}#sk-container-id-5 div.sk-label-container {text-align: center;}#sk-container-id-5 div.sk-container {/* jupyter's `normalize.less` sets `[hidden] { display: none; }` but bootstrap.min.css set `[hidden] { display: none !important; }` so we also need the `!important` here to be able to override the default hidden behavior on the sphinx rendered scikit-learn.org. See: https://github.com/scikit-learn/scikit-learn/issues/21755 */display: inline-block !important;position: relative;}#sk-container-id-5 div.sk-text-repr-fallback {display: none;}</style><div id=\"sk-container-id-5\" class=\"sk-top-container\"><div class=\"sk-text-repr-fallback\"><pre>GradientBoostingClassifier(learning_rate=0.8, max_depth=2, n_estimators=500,\n",
       "                           random_state=25)</pre><b>In a Jupyter environment, please rerun this cell to show the HTML representation or trust the notebook. <br />On GitHub, the HTML representation is unable to render, please try loading this page with nbviewer.org.</b></div><div class=\"sk-container\" hidden><div class=\"sk-item\"><div class=\"sk-estimator sk-toggleable\"><input class=\"sk-toggleable__control sk-hidden--visually\" id=\"sk-estimator-id-12\" type=\"checkbox\" checked><label for=\"sk-estimator-id-12\" class=\"sk-toggleable__label sk-toggleable__label-arrow\">GradientBoostingClassifier</label><div class=\"sk-toggleable__content\"><pre>GradientBoostingClassifier(learning_rate=0.8, max_depth=2, n_estimators=500,\n",
       "                           random_state=25)</pre></div></div></div></div></div>"
      ],
      "text/plain": [
       "GradientBoostingClassifier(learning_rate=0.8, max_depth=2, n_estimators=500,\n",
       "                           random_state=25)"
      ]
     },
     "execution_count": 52,
     "metadata": {},
     "output_type": "execute_result"
    }
   ],
   "source": [
    "# < ENTER YOUR CODE HERE > \n",
    "from sklearn.ensemble import GradientBoostingClassifier\n",
    "\n",
    "g_boost = GradientBoostingClassifier(\n",
    "    n_estimators=500, learning_rate=0.8, random_state=25, max_depth=2\n",
    ")\n",
    "\n",
    "g_boost.fit(X_train, y_train)"
   ]
  },
  {
   "cell_type": "markdown",
   "metadata": {
    "id": "GG6FsM-MQ4zD"
   },
   "source": [
    "Enter the model accuracy on the **training dataset**."
   ]
  },
  {
   "cell_type": "code",
   "execution_count": 53,
   "metadata": {
    "id": "lFeF1QwPOwK4"
   },
   "outputs": [
    {
     "data": {
      "text/plain": [
       "0.9319976550915549"
      ]
     },
     "execution_count": 53,
     "metadata": {},
     "output_type": "execute_result"
    }
   ],
   "source": [
    "# < ENTER YOUR CODE HERE > \n",
    "y_train_pred = g_boost.predict(X_train)\n",
    "accuracy_score(y_train, y_train_pred)"
   ]
  },
  {
   "cell_type": "markdown",
   "metadata": {
    "id": "bOelcde2Q7ci"
   },
   "source": [
    "Enter the model accuracy on the **test dataset**."
   ]
  },
  {
   "cell_type": "code",
   "execution_count": 54,
   "metadata": {
    "id": "JwE39g4NOwK5"
   },
   "outputs": [
    {
     "data": {
      "text/plain": [
       "0.894"
      ]
     },
     "execution_count": 54,
     "metadata": {},
     "output_type": "execute_result"
    }
   ],
   "source": [
    "# < ENTER YOUR CODE HERE > \n",
    "y_test_pred = g_boost.predict(X_test)\n",
    "round(accuracy_score(y_test, y_test_pred),3)"
   ]
  },
  {
   "cell_type": "markdown",
   "metadata": {
    "id": "3R2nbMJpOwK5"
   },
   "source": [
    "# AdaBoost Classifier"
   ]
  },
  {
   "cell_type": "markdown",
   "metadata": {
    "id": "pJHU89IuOwK5"
   },
   "source": [
    "It works in a similar way to gradient boosting, however subsequent models do not try to correct the error of the previous ones: the first object is trained on the entire dataset, and the next one updates its weights based on the experience of the previous one in a way that corrects erroneous predictions.\n",
    "\n",
    "Based on <code>sklearn.ensemble.AdaBoostClassifier</code>, using <code>DecisionTreeClassifier</code>, train the model with the parameters specified in your individual assignment on the training dataset."
   ]
  },
  {
   "cell_type": "code",
   "execution_count": 55,
   "metadata": {
    "id": "ohHflb2gOwK6"
   },
   "outputs": [
    {
     "name": "stderr",
     "output_type": "stream",
     "text": [
      "/Users/lune/Library/Python/3.9/lib/python/site-packages/sklearn/ensemble/_base.py:156: FutureWarning: `base_estimator` was renamed to `estimator` in version 1.2 and will be removed in 1.4.\n",
      "  warnings.warn(\n"
     ]
    },
    {
     "data": {
      "text/html": [
       "<style>#sk-container-id-6 {color: black;}#sk-container-id-6 pre{padding: 0;}#sk-container-id-6 div.sk-toggleable {background-color: white;}#sk-container-id-6 label.sk-toggleable__label {cursor: pointer;display: block;width: 100%;margin-bottom: 0;padding: 0.3em;box-sizing: border-box;text-align: center;}#sk-container-id-6 label.sk-toggleable__label-arrow:before {content: \"▸\";float: left;margin-right: 0.25em;color: #696969;}#sk-container-id-6 label.sk-toggleable__label-arrow:hover:before {color: black;}#sk-container-id-6 div.sk-estimator:hover label.sk-toggleable__label-arrow:before {color: black;}#sk-container-id-6 div.sk-toggleable__content {max-height: 0;max-width: 0;overflow: hidden;text-align: left;background-color: #f0f8ff;}#sk-container-id-6 div.sk-toggleable__content pre {margin: 0.2em;color: black;border-radius: 0.25em;background-color: #f0f8ff;}#sk-container-id-6 input.sk-toggleable__control:checked~div.sk-toggleable__content {max-height: 200px;max-width: 100%;overflow: auto;}#sk-container-id-6 input.sk-toggleable__control:checked~label.sk-toggleable__label-arrow:before {content: \"▾\";}#sk-container-id-6 div.sk-estimator input.sk-toggleable__control:checked~label.sk-toggleable__label {background-color: #d4ebff;}#sk-container-id-6 div.sk-label input.sk-toggleable__control:checked~label.sk-toggleable__label {background-color: #d4ebff;}#sk-container-id-6 input.sk-hidden--visually {border: 0;clip: rect(1px 1px 1px 1px);clip: rect(1px, 1px, 1px, 1px);height: 1px;margin: -1px;overflow: hidden;padding: 0;position: absolute;width: 1px;}#sk-container-id-6 div.sk-estimator {font-family: monospace;background-color: #f0f8ff;border: 1px dotted black;border-radius: 0.25em;box-sizing: border-box;margin-bottom: 0.5em;}#sk-container-id-6 div.sk-estimator:hover {background-color: #d4ebff;}#sk-container-id-6 div.sk-parallel-item::after {content: \"\";width: 100%;border-bottom: 1px solid gray;flex-grow: 1;}#sk-container-id-6 div.sk-label:hover label.sk-toggleable__label {background-color: #d4ebff;}#sk-container-id-6 div.sk-serial::before {content: \"\";position: absolute;border-left: 1px solid gray;box-sizing: border-box;top: 0;bottom: 0;left: 50%;z-index: 0;}#sk-container-id-6 div.sk-serial {display: flex;flex-direction: column;align-items: center;background-color: white;padding-right: 0.2em;padding-left: 0.2em;position: relative;}#sk-container-id-6 div.sk-item {position: relative;z-index: 1;}#sk-container-id-6 div.sk-parallel {display: flex;align-items: stretch;justify-content: center;background-color: white;position: relative;}#sk-container-id-6 div.sk-item::before, #sk-container-id-6 div.sk-parallel-item::before {content: \"\";position: absolute;border-left: 1px solid gray;box-sizing: border-box;top: 0;bottom: 0;left: 50%;z-index: -1;}#sk-container-id-6 div.sk-parallel-item {display: flex;flex-direction: column;z-index: 1;position: relative;background-color: white;}#sk-container-id-6 div.sk-parallel-item:first-child::after {align-self: flex-end;width: 50%;}#sk-container-id-6 div.sk-parallel-item:last-child::after {align-self: flex-start;width: 50%;}#sk-container-id-6 div.sk-parallel-item:only-child::after {width: 0;}#sk-container-id-6 div.sk-dashed-wrapped {border: 1px dashed gray;margin: 0 0.4em 0.5em 0.4em;box-sizing: border-box;padding-bottom: 0.4em;background-color: white;}#sk-container-id-6 div.sk-label label {font-family: monospace;font-weight: bold;display: inline-block;line-height: 1.2em;}#sk-container-id-6 div.sk-label-container {text-align: center;}#sk-container-id-6 div.sk-container {/* jupyter's `normalize.less` sets `[hidden] { display: none; }` but bootstrap.min.css set `[hidden] { display: none !important; }` so we also need the `!important` here to be able to override the default hidden behavior on the sphinx rendered scikit-learn.org. See: https://github.com/scikit-learn/scikit-learn/issues/21755 */display: inline-block !important;position: relative;}#sk-container-id-6 div.sk-text-repr-fallback {display: none;}</style><div id=\"sk-container-id-6\" class=\"sk-top-container\"><div class=\"sk-text-repr-fallback\"><pre>AdaBoostClassifier(base_estimator=DecisionTreeClassifier(class_weight=&#x27;balanced&#x27;,\n",
       "                                                         max_depth=3),\n",
       "                   learning_rate=0.5, n_estimators=300, random_state=25)</pre><b>In a Jupyter environment, please rerun this cell to show the HTML representation or trust the notebook. <br />On GitHub, the HTML representation is unable to render, please try loading this page with nbviewer.org.</b></div><div class=\"sk-container\" hidden><div class=\"sk-item sk-dashed-wrapped\"><div class=\"sk-label-container\"><div class=\"sk-label sk-toggleable\"><input class=\"sk-toggleable__control sk-hidden--visually\" id=\"sk-estimator-id-13\" type=\"checkbox\" ><label for=\"sk-estimator-id-13\" class=\"sk-toggleable__label sk-toggleable__label-arrow\">AdaBoostClassifier</label><div class=\"sk-toggleable__content\"><pre>AdaBoostClassifier(base_estimator=DecisionTreeClassifier(class_weight=&#x27;balanced&#x27;,\n",
       "                                                         max_depth=3),\n",
       "                   learning_rate=0.5, n_estimators=300, random_state=25)</pre></div></div></div><div class=\"sk-parallel\"><div class=\"sk-parallel-item\"><div class=\"sk-item\"><div class=\"sk-label-container\"><div class=\"sk-label sk-toggleable\"><input class=\"sk-toggleable__control sk-hidden--visually\" id=\"sk-estimator-id-14\" type=\"checkbox\" ><label for=\"sk-estimator-id-14\" class=\"sk-toggleable__label sk-toggleable__label-arrow\">base_estimator: DecisionTreeClassifier</label><div class=\"sk-toggleable__content\"><pre>DecisionTreeClassifier(class_weight=&#x27;balanced&#x27;, max_depth=3)</pre></div></div></div><div class=\"sk-serial\"><div class=\"sk-item\"><div class=\"sk-estimator sk-toggleable\"><input class=\"sk-toggleable__control sk-hidden--visually\" id=\"sk-estimator-id-15\" type=\"checkbox\" ><label for=\"sk-estimator-id-15\" class=\"sk-toggleable__label sk-toggleable__label-arrow\">DecisionTreeClassifier</label><div class=\"sk-toggleable__content\"><pre>DecisionTreeClassifier(class_weight=&#x27;balanced&#x27;, max_depth=3)</pre></div></div></div></div></div></div></div></div></div></div>"
      ],
      "text/plain": [
       "AdaBoostClassifier(base_estimator=DecisionTreeClassifier(class_weight='balanced',\n",
       "                                                         max_depth=3),\n",
       "                   learning_rate=0.5, n_estimators=300, random_state=25)"
      ]
     },
     "execution_count": 55,
     "metadata": {},
     "output_type": "execute_result"
    }
   ],
   "source": [
    "# < ENTER YOUR CODE HERE > \n",
    "from sklearn.ensemble import AdaBoostClassifier\n",
    "\n",
    "ada = AdaBoostClassifier(\n",
    "    base_estimator=DecisionTreeClassifier(max_depth=3, class_weight='balanced'),\n",
    "    n_estimators=300,\n",
    "    learning_rate=0.5,\n",
    "    random_state=25)\n",
    "\n",
    "ada.fit(X_train, y_train)"
   ]
  },
  {
   "cell_type": "markdown",
   "metadata": {
    "id": "AuTJlmRYRsUY"
   },
   "source": [
    "Enter the model accuracy on the **training dataset**."
   ]
  },
  {
   "cell_type": "code",
   "execution_count": 56,
   "metadata": {
    "id": "IAG_PMTYOwK6"
   },
   "outputs": [
    {
     "data": {
      "text/plain": [
       "0.9415152246629194"
      ]
     },
     "execution_count": 56,
     "metadata": {},
     "output_type": "execute_result"
    }
   ],
   "source": [
    "# < ENTER YOUR CODE HERE > \n",
    "y_train_pred = ada.predict(X_train)\n",
    "accuracy_score(y_train, y_train_pred)"
   ]
  },
  {
   "cell_type": "markdown",
   "metadata": {
    "id": "6GpNu-JGRuch"
   },
   "source": [
    "Enter the model accuracy on the **test dataset**."
   ]
  },
  {
   "cell_type": "code",
   "execution_count": 57,
   "metadata": {
    "id": "SVKSXjJ_OwK6"
   },
   "outputs": [
    {
     "data": {
      "text/plain": [
       "0.896"
      ]
     },
     "execution_count": 57,
     "metadata": {},
     "output_type": "execute_result"
    }
   ],
   "source": [
    "# < ENTER YOUR CODE HERE > \n",
    "y_test_pred = ada.predict(X_test)\n",
    "round(accuracy_score(y_test, y_test_pred),3)"
   ]
  },
  {
   "cell_type": "markdown",
   "metadata": {
    "id": "HO-fMJpWOwK7"
   },
   "source": [
    "# Stacking Classifier"
   ]
  },
  {
   "cell_type": "markdown",
   "metadata": {
    "id": "jwt8PrAhOwK7"
   },
   "source": [
    "Trains multiple class objects (multiple models) on the entire dataset, and then trains a separate classifier on the metdata - the predictions obtained by the previously trained models.\n",
    "\n",
    "Use the <code>sklearn.ensemble.StackingClassifier</code> object. The basic algorithms and solver, as well as the corresponding parameters, are specified in your individual assignment. Train the model on the training dataset."
   ]
  },
  {
   "cell_type": "code",
   "execution_count": 58,
   "metadata": {
    "id": "rBblioH9OwK7"
   },
   "outputs": [
    {
     "data": {
      "text/html": [
       "<style>#sk-container-id-7 {color: black;}#sk-container-id-7 pre{padding: 0;}#sk-container-id-7 div.sk-toggleable {background-color: white;}#sk-container-id-7 label.sk-toggleable__label {cursor: pointer;display: block;width: 100%;margin-bottom: 0;padding: 0.3em;box-sizing: border-box;text-align: center;}#sk-container-id-7 label.sk-toggleable__label-arrow:before {content: \"▸\";float: left;margin-right: 0.25em;color: #696969;}#sk-container-id-7 label.sk-toggleable__label-arrow:hover:before {color: black;}#sk-container-id-7 div.sk-estimator:hover label.sk-toggleable__label-arrow:before {color: black;}#sk-container-id-7 div.sk-toggleable__content {max-height: 0;max-width: 0;overflow: hidden;text-align: left;background-color: #f0f8ff;}#sk-container-id-7 div.sk-toggleable__content pre {margin: 0.2em;color: black;border-radius: 0.25em;background-color: #f0f8ff;}#sk-container-id-7 input.sk-toggleable__control:checked~div.sk-toggleable__content {max-height: 200px;max-width: 100%;overflow: auto;}#sk-container-id-7 input.sk-toggleable__control:checked~label.sk-toggleable__label-arrow:before {content: \"▾\";}#sk-container-id-7 div.sk-estimator input.sk-toggleable__control:checked~label.sk-toggleable__label {background-color: #d4ebff;}#sk-container-id-7 div.sk-label input.sk-toggleable__control:checked~label.sk-toggleable__label {background-color: #d4ebff;}#sk-container-id-7 input.sk-hidden--visually {border: 0;clip: rect(1px 1px 1px 1px);clip: rect(1px, 1px, 1px, 1px);height: 1px;margin: -1px;overflow: hidden;padding: 0;position: absolute;width: 1px;}#sk-container-id-7 div.sk-estimator {font-family: monospace;background-color: #f0f8ff;border: 1px dotted black;border-radius: 0.25em;box-sizing: border-box;margin-bottom: 0.5em;}#sk-container-id-7 div.sk-estimator:hover {background-color: #d4ebff;}#sk-container-id-7 div.sk-parallel-item::after {content: \"\";width: 100%;border-bottom: 1px solid gray;flex-grow: 1;}#sk-container-id-7 div.sk-label:hover label.sk-toggleable__label {background-color: #d4ebff;}#sk-container-id-7 div.sk-serial::before {content: \"\";position: absolute;border-left: 1px solid gray;box-sizing: border-box;top: 0;bottom: 0;left: 50%;z-index: 0;}#sk-container-id-7 div.sk-serial {display: flex;flex-direction: column;align-items: center;background-color: white;padding-right: 0.2em;padding-left: 0.2em;position: relative;}#sk-container-id-7 div.sk-item {position: relative;z-index: 1;}#sk-container-id-7 div.sk-parallel {display: flex;align-items: stretch;justify-content: center;background-color: white;position: relative;}#sk-container-id-7 div.sk-item::before, #sk-container-id-7 div.sk-parallel-item::before {content: \"\";position: absolute;border-left: 1px solid gray;box-sizing: border-box;top: 0;bottom: 0;left: 50%;z-index: -1;}#sk-container-id-7 div.sk-parallel-item {display: flex;flex-direction: column;z-index: 1;position: relative;background-color: white;}#sk-container-id-7 div.sk-parallel-item:first-child::after {align-self: flex-end;width: 50%;}#sk-container-id-7 div.sk-parallel-item:last-child::after {align-self: flex-start;width: 50%;}#sk-container-id-7 div.sk-parallel-item:only-child::after {width: 0;}#sk-container-id-7 div.sk-dashed-wrapped {border: 1px dashed gray;margin: 0 0.4em 0.5em 0.4em;box-sizing: border-box;padding-bottom: 0.4em;background-color: white;}#sk-container-id-7 div.sk-label label {font-family: monospace;font-weight: bold;display: inline-block;line-height: 1.2em;}#sk-container-id-7 div.sk-label-container {text-align: center;}#sk-container-id-7 div.sk-container {/* jupyter's `normalize.less` sets `[hidden] { display: none; }` but bootstrap.min.css set `[hidden] { display: none !important; }` so we also need the `!important` here to be able to override the default hidden behavior on the sphinx rendered scikit-learn.org. See: https://github.com/scikit-learn/scikit-learn/issues/21755 */display: inline-block !important;position: relative;}#sk-container-id-7 div.sk-text-repr-fallback {display: none;}</style><div id=\"sk-container-id-7\" class=\"sk-top-container\"><div class=\"sk-text-repr-fallback\"><pre>StackingClassifier(estimators=[(&#x27;rand_forest&#x27;,\n",
       "                                RandomForestClassifier(random_state=25)),\n",
       "                               (&#x27;svc&#x27;, SVC(random_state=25))],\n",
       "                   final_estimator=LogisticRegression(random_state=25))</pre><b>In a Jupyter environment, please rerun this cell to show the HTML representation or trust the notebook. <br />On GitHub, the HTML representation is unable to render, please try loading this page with nbviewer.org.</b></div><div class=\"sk-container\" hidden><div class=\"sk-item sk-dashed-wrapped\"><div class=\"sk-label-container\"><div class=\"sk-label sk-toggleable\"><input class=\"sk-toggleable__control sk-hidden--visually\" id=\"sk-estimator-id-16\" type=\"checkbox\" ><label for=\"sk-estimator-id-16\" class=\"sk-toggleable__label sk-toggleable__label-arrow\">StackingClassifier</label><div class=\"sk-toggleable__content\"><pre>StackingClassifier(estimators=[(&#x27;rand_forest&#x27;,\n",
       "                                RandomForestClassifier(random_state=25)),\n",
       "                               (&#x27;svc&#x27;, SVC(random_state=25))],\n",
       "                   final_estimator=LogisticRegression(random_state=25))</pre></div></div></div><div class=\"sk-serial\"><div class=\"sk-item\"><div class=\"sk-parallel\"><div class=\"sk-parallel-item\"><div class=\"sk-item\"><div class=\"sk-label-container\"><div class=\"sk-label sk-toggleable\"><label>rand_forest</label></div></div><div class=\"sk-serial\"><div class=\"sk-item\"><div class=\"sk-estimator sk-toggleable\"><input class=\"sk-toggleable__control sk-hidden--visually\" id=\"sk-estimator-id-17\" type=\"checkbox\" ><label for=\"sk-estimator-id-17\" class=\"sk-toggleable__label sk-toggleable__label-arrow\">RandomForestClassifier</label><div class=\"sk-toggleable__content\"><pre>RandomForestClassifier(random_state=25)</pre></div></div></div></div></div></div><div class=\"sk-parallel-item\"><div class=\"sk-item\"><div class=\"sk-label-container\"><div class=\"sk-label sk-toggleable\"><label>svc</label></div></div><div class=\"sk-serial\"><div class=\"sk-item\"><div class=\"sk-estimator sk-toggleable\"><input class=\"sk-toggleable__control sk-hidden--visually\" id=\"sk-estimator-id-18\" type=\"checkbox\" ><label for=\"sk-estimator-id-18\" class=\"sk-toggleable__label sk-toggleable__label-arrow\">SVC</label><div class=\"sk-toggleable__content\"><pre>SVC(random_state=25)</pre></div></div></div></div></div></div></div></div><div class=\"sk-item\"><div class=\"sk-parallel\"><div class=\"sk-parallel-item\"><div class=\"sk-item\"><div class=\"sk-label-container\"><div class=\"sk-label sk-toggleable\"><label>final_estimator</label></div></div><div class=\"sk-serial\"><div class=\"sk-item\"><div class=\"sk-estimator sk-toggleable\"><input class=\"sk-toggleable__control sk-hidden--visually\" id=\"sk-estimator-id-19\" type=\"checkbox\" ><label for=\"sk-estimator-id-19\" class=\"sk-toggleable__label sk-toggleable__label-arrow\">LogisticRegression</label><div class=\"sk-toggleable__content\"><pre>LogisticRegression(random_state=25)</pre></div></div></div></div></div></div></div></div></div></div></div></div>"
      ],
      "text/plain": [
       "StackingClassifier(estimators=[('rand_forest',\n",
       "                                RandomForestClassifier(random_state=25)),\n",
       "                               ('svc', SVC(random_state=25))],\n",
       "                   final_estimator=LogisticRegression(random_state=25))"
      ]
     },
     "execution_count": 58,
     "metadata": {},
     "output_type": "execute_result"
    }
   ],
   "source": [
    "# < ENTER YOUR CODE HERE >\n",
    "from sklearn.ensemble import StackingClassifier\n",
    "\n",
    "base_est = [('rand_forest', RandomForestClassifier(random_state=25)),\n",
    "        ('svc', SVC(random_state=25))]\n",
    "final_est = LogisticRegression(random_state=25)\n",
    "\n",
    "stack = StackingClassifier(estimators=base_est,\n",
    "                           final_estimator=final_est)\n",
    "stack.fit(X_train, y_train)"
   ]
  },
  {
   "cell_type": "markdown",
   "metadata": {
    "id": "DfqpeCWeTP24"
   },
   "source": [
    "Enter the model accuracy on the **training dataset**."
   ]
  },
  {
   "cell_type": "code",
   "execution_count": 59,
   "metadata": {
    "id": "6pJ3EYn2OwK8"
   },
   "outputs": [
    {
     "data": {
      "text/plain": [
       "0.999689644470499"
      ]
     },
     "execution_count": 59,
     "metadata": {},
     "output_type": "execute_result"
    }
   ],
   "source": [
    "# < ENTER YOUR CODE HERE > \n",
    "y_train_pred = stack.predict(X_train)\n",
    "accuracy_score(y_train, y_train_pred)"
   ]
  },
  {
   "cell_type": "markdown",
   "metadata": {
    "id": "xRNxf9ZGTUMk"
   },
   "source": [
    "Enter the model accuracy on the **test dataset**."
   ]
  },
  {
   "cell_type": "code",
   "execution_count": 60,
   "metadata": {
    "id": "jUQ8y62VOwK8"
   },
   "outputs": [
    {
     "data": {
      "text/plain": [
       "0.895"
      ]
     },
     "execution_count": 60,
     "metadata": {},
     "output_type": "execute_result"
    }
   ],
   "source": [
    "# < ENTER YOUR CODE HERE > \n",
    "y_test_pred = stack.predict(X_test)\n",
    "round(accuracy_score(y_test, y_test_pred),3)"
   ]
  }
 ],
 "metadata": {
  "colab": {
   "provenance": []
  },
  "kernelspec": {
   "display_name": "Python 3 (ipykernel)",
   "language": "python",
   "name": "python3"
  },
  "language_info": {
   "codemirror_mode": {
    "name": "ipython",
    "version": 3
   },
   "file_extension": ".py",
   "mimetype": "text/x-python",
   "name": "python",
   "nbconvert_exporter": "python",
   "pygments_lexer": "ipython3",
   "version": "3.9.6"
  }
 },
 "nbformat": 4,
 "nbformat_minor": 1
}
